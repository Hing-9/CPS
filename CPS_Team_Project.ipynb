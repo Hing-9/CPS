{
  "nbformat": 4,
  "nbformat_minor": 0,
  "metadata": {
    "colab": {
      "provenance": [],
      "toc_visible": true,
      "authorship_tag": "ABX9TyPW0Q8rvXM8mzTfTYSCHuK+",
      "include_colab_link": true
    },
    "kernelspec": {
      "name": "python3",
      "display_name": "Python 3"
    },
    "language_info": {
      "name": "python"
    }
  },
  "cells": [
    {
      "cell_type": "markdown",
      "metadata": {
        "id": "view-in-github",
        "colab_type": "text"
      },
      "source": [
        "<a href=\"https://colab.research.google.com/github/Hing-9/CPS/blob/main/CPS_Team_Project.ipynb\" target=\"_parent\"><img src=\"https://colab.research.google.com/assets/colab-badge.svg\" alt=\"Open In Colab\"/></a>"
      ]
    },
    {
      "cell_type": "markdown",
      "source": [
        "# 환경설정"
      ],
      "metadata": {
        "id": "k9X-8eFoHngh"
      }
    },
    {
      "cell_type": "markdown",
      "source": [
        "## Library Import"
      ],
      "metadata": {
        "id": "Ub88mQwGH_Qw"
      }
    },
    {
      "cell_type": "code",
      "source": [
        "import pandas as pd\n",
        "import matplotlib.pyplot as plt\n",
        "import numpy as np\n",
        "\n",
        "import plotly.express as px\n",
        "\n",
        "from tqdm import tqdm\n",
        "\n",
        "import sklearn\n",
        "from sklearn.linear_model import LinearRegression\n",
        "from sklearn.tree import DecisionTreeRegressor\n",
        "from sklearn.preprocessing import StandardScaler, MinMaxScaler\n",
        "from sklearn.metrics import r2_score"
      ],
      "metadata": {
        "id": "j_fFUHYnIFEV"
      },
      "execution_count": null,
      "outputs": []
    },
    {
      "cell_type": "markdown",
      "source": [
        "## Google Cloud Connect"
      ],
      "metadata": {
        "id": "JrldogFCHopq"
      }
    },
    {
      "cell_type": "code",
      "execution_count": null,
      "metadata": {
        "colab": {
          "base_uri": "https://localhost:8080/"
        },
        "id": "hp0y9953HI4E",
        "outputId": "8e8433c3-5d78-4a79-f718-2e9a9c5731c9"
      },
      "outputs": [
        {
          "output_type": "stream",
          "name": "stdout",
          "text": [
            "Drive already mounted at /content/drive; to attempt to forcibly remount, call drive.mount(\"/content/drive\", force_remount=True).\n",
            "/content/drive/MyDrive/CPS\n"
          ]
        }
      ],
      "source": [
        "from google.colab import drive\n",
        "drive.mount('/content/drive')\n",
        "\n",
        "%cd /content/drive/MyDrive/CPS"
      ]
    },
    {
      "cell_type": "markdown",
      "source": [
        "## Data Load"
      ],
      "metadata": {
        "id": "0g47vaCDHr8V"
      }
    },
    {
      "cell_type": "code",
      "source": [
        "df_oper = pd.read_excel('./Project_Dataset.xlsx', sheet_name='OperationData')\n",
        "df_oper"
      ],
      "metadata": {
        "colab": {
          "base_uri": "https://localhost:8080/",
          "height": 904
        },
        "id": "wWQPxE4_H8Bm",
        "outputId": "f8a2f00d-e3e1-41f9-fc69-376a343719bd"
      },
      "execution_count": null,
      "outputs": [
        {
          "output_type": "execute_result",
          "data": {
            "text/plain": [
              "     RunOrder      Type    PNo   WPNo  StepNo   ONo  OPos  \\\n",
              "0           1  Training  20017  20017      10  2578     1   \n",
              "1           1  Training  20017  20017      20  2578     1   \n",
              "2           1  Training  20017  20017      30  2578     1   \n",
              "3           1  Training  20017  20017      40  2578     1   \n",
              "4           1  Training  20017  20017      50  2578     1   \n",
              "..        ...       ...    ...    ...     ...   ...   ...   \n",
              "177        21      Test  20037  20037      50  2580     7   \n",
              "178        21      Test  20037  20037      60  2580     7   \n",
              "179        21      Test  20037  20037      70  2580     7   \n",
              "180        21      Test  20037  20037      80  2580     7   \n",
              "181        21      Test  20037  20037      90  2580     7   \n",
              "\n",
              "                                    Description  OpNo  NextStepNo  ...  \\\n",
              "0           release a defined part on stopper 1   212          20  ...   \n",
              "1                       measure a part (analog)   115          30  ...   \n",
              "2                   assemble a PCB with no fuse   301          40  ...   \n",
              "3    camera check false if any fuse is detected   401          50  ...   \n",
              "4                        feed part from magazin   200          60  ...   \n",
              "..                                          ...   ...         ...  ...   \n",
              "177         true if the both fuses are detected   404          60  ...   \n",
              "178                      feed part from magazin   200          70  ...   \n",
              "179              pressing with force regulation   111          80  ...   \n",
              "180                                heating Part   112          90  ...   \n",
              "181                 store a part from stopper 1   210           0  ...   \n",
              "\n",
              "            PlanedStart           PlanedEnd               Start  \\\n",
              "0   2022-08-04 13:55:08 2022-08-04 13:55:23 2022-08-04 13:56:16   \n",
              "1   2022-08-04 13:55:23 2022-08-04 13:55:25 2022-08-04 13:57:08   \n",
              "2   2022-08-04 13:55:25 2022-08-04 13:56:05 2022-08-04 13:57:49   \n",
              "3   2022-08-04 13:56:05 2022-08-04 13:56:07 2022-08-04 13:59:20   \n",
              "4   2022-08-04 13:56:07 2022-08-04 13:56:11 2022-08-04 13:59:45   \n",
              "..                  ...                 ...                 ...   \n",
              "177 2022-08-04 15:42:42 2022-08-04 15:42:44 2022-08-04 19:08:46   \n",
              "178 2022-08-04 15:42:44 2022-08-04 15:42:48 2022-08-04 19:09:11   \n",
              "179 2022-08-04 15:42:48 2022-08-04 15:43:32 2022-08-04 19:09:25   \n",
              "180 2022-08-04 15:43:32 2022-08-04 15:44:27 2022-08-04 19:10:26   \n",
              "181 2022-08-04 15:44:27 2022-08-04 15:44:42 2022-08-04 19:11:47   \n",
              "\n",
              "                    End Real_Time difference ResourceID Temperature  \\\n",
              "0   2022-08-04 13:56:33                   17          1        55.6   \n",
              "1   2022-08-04 13:57:10                    2          2        55.6   \n",
              "2   2022-08-04 13:59:05                   76          4        55.6   \n",
              "3   2022-08-04 13:59:20                    0          5        55.6   \n",
              "4   2022-08-04 13:59:47                    2          6        55.6   \n",
              "..                  ...                  ...        ...         ...   \n",
              "177 2022-08-04 19:08:47                    1          5        37.5   \n",
              "178 2022-08-04 19:09:13                    2          6        37.5   \n",
              "179 2022-08-04 19:10:14                   49          7        37.5   \n",
              "180 2022-08-04 19:11:28                   62          8        37.5   \n",
              "181 2022-08-04 19:12:02                   15          1        37.5   \n",
              "\n",
              "     Temperature_Time  Drilling_Count  Fuse  \n",
              "0                71.2               0     0  \n",
              "1                71.2               0     0  \n",
              "2                71.2               0     0  \n",
              "3                71.2               0     0  \n",
              "4                71.2               0     0  \n",
              "..                ...             ...   ...  \n",
              "177              35.0               2     2  \n",
              "178              35.0               2     2  \n",
              "179              35.0               2     2  \n",
              "180              35.0               2     2  \n",
              "181              35.0               2     2  \n",
              "\n",
              "[182 rows x 23 columns]"
            ],
            "text/html": [
              "\n",
              "  <div id=\"df-6b7aa979-095d-411d-9984-973ac4cd215a\">\n",
              "    <div class=\"colab-df-container\">\n",
              "      <div>\n",
              "<style scoped>\n",
              "    .dataframe tbody tr th:only-of-type {\n",
              "        vertical-align: middle;\n",
              "    }\n",
              "\n",
              "    .dataframe tbody tr th {\n",
              "        vertical-align: top;\n",
              "    }\n",
              "\n",
              "    .dataframe thead th {\n",
              "        text-align: right;\n",
              "    }\n",
              "</style>\n",
              "<table border=\"1\" class=\"dataframe\">\n",
              "  <thead>\n",
              "    <tr style=\"text-align: right;\">\n",
              "      <th></th>\n",
              "      <th>RunOrder</th>\n",
              "      <th>Type</th>\n",
              "      <th>PNo</th>\n",
              "      <th>WPNo</th>\n",
              "      <th>StepNo</th>\n",
              "      <th>ONo</th>\n",
              "      <th>OPos</th>\n",
              "      <th>Description</th>\n",
              "      <th>OpNo</th>\n",
              "      <th>NextStepNo</th>\n",
              "      <th>...</th>\n",
              "      <th>PlanedStart</th>\n",
              "      <th>PlanedEnd</th>\n",
              "      <th>Start</th>\n",
              "      <th>End</th>\n",
              "      <th>Real_Time difference</th>\n",
              "      <th>ResourceID</th>\n",
              "      <th>Temperature</th>\n",
              "      <th>Temperature_Time</th>\n",
              "      <th>Drilling_Count</th>\n",
              "      <th>Fuse</th>\n",
              "    </tr>\n",
              "  </thead>\n",
              "  <tbody>\n",
              "    <tr>\n",
              "      <th>0</th>\n",
              "      <td>1</td>\n",
              "      <td>Training</td>\n",
              "      <td>20017</td>\n",
              "      <td>20017</td>\n",
              "      <td>10</td>\n",
              "      <td>2578</td>\n",
              "      <td>1</td>\n",
              "      <td>release a defined part on stopper 1</td>\n",
              "      <td>212</td>\n",
              "      <td>20</td>\n",
              "      <td>...</td>\n",
              "      <td>2022-08-04 13:55:08</td>\n",
              "      <td>2022-08-04 13:55:23</td>\n",
              "      <td>2022-08-04 13:56:16</td>\n",
              "      <td>2022-08-04 13:56:33</td>\n",
              "      <td>17</td>\n",
              "      <td>1</td>\n",
              "      <td>55.6</td>\n",
              "      <td>71.2</td>\n",
              "      <td>0</td>\n",
              "      <td>0</td>\n",
              "    </tr>\n",
              "    <tr>\n",
              "      <th>1</th>\n",
              "      <td>1</td>\n",
              "      <td>Training</td>\n",
              "      <td>20017</td>\n",
              "      <td>20017</td>\n",
              "      <td>20</td>\n",
              "      <td>2578</td>\n",
              "      <td>1</td>\n",
              "      <td>measure a part (analog)</td>\n",
              "      <td>115</td>\n",
              "      <td>30</td>\n",
              "      <td>...</td>\n",
              "      <td>2022-08-04 13:55:23</td>\n",
              "      <td>2022-08-04 13:55:25</td>\n",
              "      <td>2022-08-04 13:57:08</td>\n",
              "      <td>2022-08-04 13:57:10</td>\n",
              "      <td>2</td>\n",
              "      <td>2</td>\n",
              "      <td>55.6</td>\n",
              "      <td>71.2</td>\n",
              "      <td>0</td>\n",
              "      <td>0</td>\n",
              "    </tr>\n",
              "    <tr>\n",
              "      <th>2</th>\n",
              "      <td>1</td>\n",
              "      <td>Training</td>\n",
              "      <td>20017</td>\n",
              "      <td>20017</td>\n",
              "      <td>30</td>\n",
              "      <td>2578</td>\n",
              "      <td>1</td>\n",
              "      <td>assemble a PCB with no fuse</td>\n",
              "      <td>301</td>\n",
              "      <td>40</td>\n",
              "      <td>...</td>\n",
              "      <td>2022-08-04 13:55:25</td>\n",
              "      <td>2022-08-04 13:56:05</td>\n",
              "      <td>2022-08-04 13:57:49</td>\n",
              "      <td>2022-08-04 13:59:05</td>\n",
              "      <td>76</td>\n",
              "      <td>4</td>\n",
              "      <td>55.6</td>\n",
              "      <td>71.2</td>\n",
              "      <td>0</td>\n",
              "      <td>0</td>\n",
              "    </tr>\n",
              "    <tr>\n",
              "      <th>3</th>\n",
              "      <td>1</td>\n",
              "      <td>Training</td>\n",
              "      <td>20017</td>\n",
              "      <td>20017</td>\n",
              "      <td>40</td>\n",
              "      <td>2578</td>\n",
              "      <td>1</td>\n",
              "      <td>camera check false if any fuse is detected</td>\n",
              "      <td>401</td>\n",
              "      <td>50</td>\n",
              "      <td>...</td>\n",
              "      <td>2022-08-04 13:56:05</td>\n",
              "      <td>2022-08-04 13:56:07</td>\n",
              "      <td>2022-08-04 13:59:20</td>\n",
              "      <td>2022-08-04 13:59:20</td>\n",
              "      <td>0</td>\n",
              "      <td>5</td>\n",
              "      <td>55.6</td>\n",
              "      <td>71.2</td>\n",
              "      <td>0</td>\n",
              "      <td>0</td>\n",
              "    </tr>\n",
              "    <tr>\n",
              "      <th>4</th>\n",
              "      <td>1</td>\n",
              "      <td>Training</td>\n",
              "      <td>20017</td>\n",
              "      <td>20017</td>\n",
              "      <td>50</td>\n",
              "      <td>2578</td>\n",
              "      <td>1</td>\n",
              "      <td>feed part from magazin</td>\n",
              "      <td>200</td>\n",
              "      <td>60</td>\n",
              "      <td>...</td>\n",
              "      <td>2022-08-04 13:56:07</td>\n",
              "      <td>2022-08-04 13:56:11</td>\n",
              "      <td>2022-08-04 13:59:45</td>\n",
              "      <td>2022-08-04 13:59:47</td>\n",
              "      <td>2</td>\n",
              "      <td>6</td>\n",
              "      <td>55.6</td>\n",
              "      <td>71.2</td>\n",
              "      <td>0</td>\n",
              "      <td>0</td>\n",
              "    </tr>\n",
              "    <tr>\n",
              "      <th>...</th>\n",
              "      <td>...</td>\n",
              "      <td>...</td>\n",
              "      <td>...</td>\n",
              "      <td>...</td>\n",
              "      <td>...</td>\n",
              "      <td>...</td>\n",
              "      <td>...</td>\n",
              "      <td>...</td>\n",
              "      <td>...</td>\n",
              "      <td>...</td>\n",
              "      <td>...</td>\n",
              "      <td>...</td>\n",
              "      <td>...</td>\n",
              "      <td>...</td>\n",
              "      <td>...</td>\n",
              "      <td>...</td>\n",
              "      <td>...</td>\n",
              "      <td>...</td>\n",
              "      <td>...</td>\n",
              "      <td>...</td>\n",
              "      <td>...</td>\n",
              "    </tr>\n",
              "    <tr>\n",
              "      <th>177</th>\n",
              "      <td>21</td>\n",
              "      <td>Test</td>\n",
              "      <td>20037</td>\n",
              "      <td>20037</td>\n",
              "      <td>50</td>\n",
              "      <td>2580</td>\n",
              "      <td>7</td>\n",
              "      <td>true if the both fuses are detected</td>\n",
              "      <td>404</td>\n",
              "      <td>60</td>\n",
              "      <td>...</td>\n",
              "      <td>2022-08-04 15:42:42</td>\n",
              "      <td>2022-08-04 15:42:44</td>\n",
              "      <td>2022-08-04 19:08:46</td>\n",
              "      <td>2022-08-04 19:08:47</td>\n",
              "      <td>1</td>\n",
              "      <td>5</td>\n",
              "      <td>37.5</td>\n",
              "      <td>35.0</td>\n",
              "      <td>2</td>\n",
              "      <td>2</td>\n",
              "    </tr>\n",
              "    <tr>\n",
              "      <th>178</th>\n",
              "      <td>21</td>\n",
              "      <td>Test</td>\n",
              "      <td>20037</td>\n",
              "      <td>20037</td>\n",
              "      <td>60</td>\n",
              "      <td>2580</td>\n",
              "      <td>7</td>\n",
              "      <td>feed part from magazin</td>\n",
              "      <td>200</td>\n",
              "      <td>70</td>\n",
              "      <td>...</td>\n",
              "      <td>2022-08-04 15:42:44</td>\n",
              "      <td>2022-08-04 15:42:48</td>\n",
              "      <td>2022-08-04 19:09:11</td>\n",
              "      <td>2022-08-04 19:09:13</td>\n",
              "      <td>2</td>\n",
              "      <td>6</td>\n",
              "      <td>37.5</td>\n",
              "      <td>35.0</td>\n",
              "      <td>2</td>\n",
              "      <td>2</td>\n",
              "    </tr>\n",
              "    <tr>\n",
              "      <th>179</th>\n",
              "      <td>21</td>\n",
              "      <td>Test</td>\n",
              "      <td>20037</td>\n",
              "      <td>20037</td>\n",
              "      <td>70</td>\n",
              "      <td>2580</td>\n",
              "      <td>7</td>\n",
              "      <td>pressing with force regulation</td>\n",
              "      <td>111</td>\n",
              "      <td>80</td>\n",
              "      <td>...</td>\n",
              "      <td>2022-08-04 15:42:48</td>\n",
              "      <td>2022-08-04 15:43:32</td>\n",
              "      <td>2022-08-04 19:09:25</td>\n",
              "      <td>2022-08-04 19:10:14</td>\n",
              "      <td>49</td>\n",
              "      <td>7</td>\n",
              "      <td>37.5</td>\n",
              "      <td>35.0</td>\n",
              "      <td>2</td>\n",
              "      <td>2</td>\n",
              "    </tr>\n",
              "    <tr>\n",
              "      <th>180</th>\n",
              "      <td>21</td>\n",
              "      <td>Test</td>\n",
              "      <td>20037</td>\n",
              "      <td>20037</td>\n",
              "      <td>80</td>\n",
              "      <td>2580</td>\n",
              "      <td>7</td>\n",
              "      <td>heating Part</td>\n",
              "      <td>112</td>\n",
              "      <td>90</td>\n",
              "      <td>...</td>\n",
              "      <td>2022-08-04 15:43:32</td>\n",
              "      <td>2022-08-04 15:44:27</td>\n",
              "      <td>2022-08-04 19:10:26</td>\n",
              "      <td>2022-08-04 19:11:28</td>\n",
              "      <td>62</td>\n",
              "      <td>8</td>\n",
              "      <td>37.5</td>\n",
              "      <td>35.0</td>\n",
              "      <td>2</td>\n",
              "      <td>2</td>\n",
              "    </tr>\n",
              "    <tr>\n",
              "      <th>181</th>\n",
              "      <td>21</td>\n",
              "      <td>Test</td>\n",
              "      <td>20037</td>\n",
              "      <td>20037</td>\n",
              "      <td>90</td>\n",
              "      <td>2580</td>\n",
              "      <td>7</td>\n",
              "      <td>store a part from stopper 1</td>\n",
              "      <td>210</td>\n",
              "      <td>0</td>\n",
              "      <td>...</td>\n",
              "      <td>2022-08-04 15:44:27</td>\n",
              "      <td>2022-08-04 15:44:42</td>\n",
              "      <td>2022-08-04 19:11:47</td>\n",
              "      <td>2022-08-04 19:12:02</td>\n",
              "      <td>15</td>\n",
              "      <td>1</td>\n",
              "      <td>37.5</td>\n",
              "      <td>35.0</td>\n",
              "      <td>2</td>\n",
              "      <td>2</td>\n",
              "    </tr>\n",
              "  </tbody>\n",
              "</table>\n",
              "<p>182 rows × 23 columns</p>\n",
              "</div>\n",
              "      <button class=\"colab-df-convert\" onclick=\"convertToInteractive('df-6b7aa979-095d-411d-9984-973ac4cd215a')\"\n",
              "              title=\"Convert this dataframe to an interactive table.\"\n",
              "              style=\"display:none;\">\n",
              "        \n",
              "  <svg xmlns=\"http://www.w3.org/2000/svg\" height=\"24px\"viewBox=\"0 0 24 24\"\n",
              "       width=\"24px\">\n",
              "    <path d=\"M0 0h24v24H0V0z\" fill=\"none\"/>\n",
              "    <path d=\"M18.56 5.44l.94 2.06.94-2.06 2.06-.94-2.06-.94-.94-2.06-.94 2.06-2.06.94zm-11 1L8.5 8.5l.94-2.06 2.06-.94-2.06-.94L8.5 2.5l-.94 2.06-2.06.94zm10 10l.94 2.06.94-2.06 2.06-.94-2.06-.94-.94-2.06-.94 2.06-2.06.94z\"/><path d=\"M17.41 7.96l-1.37-1.37c-.4-.4-.92-.59-1.43-.59-.52 0-1.04.2-1.43.59L10.3 9.45l-7.72 7.72c-.78.78-.78 2.05 0 2.83L4 21.41c.39.39.9.59 1.41.59.51 0 1.02-.2 1.41-.59l7.78-7.78 2.81-2.81c.8-.78.8-2.07 0-2.86zM5.41 20L4 18.59l7.72-7.72 1.47 1.35L5.41 20z\"/>\n",
              "  </svg>\n",
              "      </button>\n",
              "      \n",
              "  <style>\n",
              "    .colab-df-container {\n",
              "      display:flex;\n",
              "      flex-wrap:wrap;\n",
              "      gap: 12px;\n",
              "    }\n",
              "\n",
              "    .colab-df-convert {\n",
              "      background-color: #E8F0FE;\n",
              "      border: none;\n",
              "      border-radius: 50%;\n",
              "      cursor: pointer;\n",
              "      display: none;\n",
              "      fill: #1967D2;\n",
              "      height: 32px;\n",
              "      padding: 0 0 0 0;\n",
              "      width: 32px;\n",
              "    }\n",
              "\n",
              "    .colab-df-convert:hover {\n",
              "      background-color: #E2EBFA;\n",
              "      box-shadow: 0px 1px 2px rgba(60, 64, 67, 0.3), 0px 1px 3px 1px rgba(60, 64, 67, 0.15);\n",
              "      fill: #174EA6;\n",
              "    }\n",
              "\n",
              "    [theme=dark] .colab-df-convert {\n",
              "      background-color: #3B4455;\n",
              "      fill: #D2E3FC;\n",
              "    }\n",
              "\n",
              "    [theme=dark] .colab-df-convert:hover {\n",
              "      background-color: #434B5C;\n",
              "      box-shadow: 0px 1px 3px 1px rgba(0, 0, 0, 0.15);\n",
              "      filter: drop-shadow(0px 1px 2px rgba(0, 0, 0, 0.3));\n",
              "      fill: #FFFFFF;\n",
              "    }\n",
              "  </style>\n",
              "\n",
              "      <script>\n",
              "        const buttonEl =\n",
              "          document.querySelector('#df-6b7aa979-095d-411d-9984-973ac4cd215a button.colab-df-convert');\n",
              "        buttonEl.style.display =\n",
              "          google.colab.kernel.accessAllowed ? 'block' : 'none';\n",
              "\n",
              "        async function convertToInteractive(key) {\n",
              "          const element = document.querySelector('#df-6b7aa979-095d-411d-9984-973ac4cd215a');\n",
              "          const dataTable =\n",
              "            await google.colab.kernel.invokeFunction('convertToInteractive',\n",
              "                                                     [key], {});\n",
              "          if (!dataTable) return;\n",
              "\n",
              "          const docLinkHtml = 'Like what you see? Visit the ' +\n",
              "            '<a target=\"_blank\" href=https://colab.research.google.com/notebooks/data_table.ipynb>data table notebook</a>'\n",
              "            + ' to learn more about interactive tables.';\n",
              "          element.innerHTML = '';\n",
              "          dataTable['output_type'] = 'display_data';\n",
              "          await google.colab.output.renderOutput(dataTable, element);\n",
              "          const docLink = document.createElement('div');\n",
              "          docLink.innerHTML = docLinkHtml;\n",
              "          element.appendChild(docLink);\n",
              "        }\n",
              "      </script>\n",
              "    </div>\n",
              "  </div>\n",
              "  "
            ]
          },
          "metadata": {},
          "execution_count": 3
        }
      ]
    },
    {
      "cell_type": "code",
      "source": [
        "df_power = pd.read_excel('./Project_Dataset.xlsx', sheet_name='PowerData')\n",
        "df_power"
      ],
      "metadata": {
        "colab": {
          "base_uri": "https://localhost:8080/",
          "height": 423
        },
        "id": "f11b4HlcJczn",
        "outputId": "dcad3bbf-8ac3-4ddb-d9b8-120b2f847127"
      },
      "execution_count": null,
      "outputs": [
        {
          "output_type": "execute_result",
          "data": {
            "text/plain": [
              "                 timeStamp  resourceID  activePower  reactivePower  \\\n",
              "0      2022-08-04 13:56:16           8       -73176          36469   \n",
              "1      2022-08-04 13:56:16           7       -65055          60748   \n",
              "2      2022-08-04 13:56:16           6       -97252          60998   \n",
              "3      2022-08-04 13:56:16           5       -67893          53940   \n",
              "4      2022-08-04 13:56:16           4      -189185         164702   \n",
              "...                    ...         ...          ...            ...   \n",
              "151571 2022-08-04 19:12:02           5       -67730          54210   \n",
              "151572 2022-08-04 19:12:02           4      -190398         165740   \n",
              "151573 2022-08-04 19:12:02           2       -89908          59707   \n",
              "151574 2022-08-04 19:12:02           3       -68201          56946   \n",
              "151575 2022-08-04 19:12:02           1      -156119         125512   \n",
              "\n",
              "        apparentPower  RunOrder  \n",
              "0              -89123       1.0  \n",
              "1              -93355       1.0  \n",
              "2             -121228       1.0  \n",
              "3              -94672       1.0  \n",
              "4             -270358       1.0  \n",
              "...               ...       ...  \n",
              "151571         -94840      21.0  \n",
              "151572        -271702      21.0  \n",
              "151573        -115390      21.0  \n",
              "151574         -95089      21.0  \n",
              "151575        -210482      21.0  \n",
              "\n",
              "[151576 rows x 6 columns]"
            ],
            "text/html": [
              "\n",
              "  <div id=\"df-de347944-2021-46fc-bf1c-e83ca2bcfe41\">\n",
              "    <div class=\"colab-df-container\">\n",
              "      <div>\n",
              "<style scoped>\n",
              "    .dataframe tbody tr th:only-of-type {\n",
              "        vertical-align: middle;\n",
              "    }\n",
              "\n",
              "    .dataframe tbody tr th {\n",
              "        vertical-align: top;\n",
              "    }\n",
              "\n",
              "    .dataframe thead th {\n",
              "        text-align: right;\n",
              "    }\n",
              "</style>\n",
              "<table border=\"1\" class=\"dataframe\">\n",
              "  <thead>\n",
              "    <tr style=\"text-align: right;\">\n",
              "      <th></th>\n",
              "      <th>timeStamp</th>\n",
              "      <th>resourceID</th>\n",
              "      <th>activePower</th>\n",
              "      <th>reactivePower</th>\n",
              "      <th>apparentPower</th>\n",
              "      <th>RunOrder</th>\n",
              "    </tr>\n",
              "  </thead>\n",
              "  <tbody>\n",
              "    <tr>\n",
              "      <th>0</th>\n",
              "      <td>2022-08-04 13:56:16</td>\n",
              "      <td>8</td>\n",
              "      <td>-73176</td>\n",
              "      <td>36469</td>\n",
              "      <td>-89123</td>\n",
              "      <td>1.0</td>\n",
              "    </tr>\n",
              "    <tr>\n",
              "      <th>1</th>\n",
              "      <td>2022-08-04 13:56:16</td>\n",
              "      <td>7</td>\n",
              "      <td>-65055</td>\n",
              "      <td>60748</td>\n",
              "      <td>-93355</td>\n",
              "      <td>1.0</td>\n",
              "    </tr>\n",
              "    <tr>\n",
              "      <th>2</th>\n",
              "      <td>2022-08-04 13:56:16</td>\n",
              "      <td>6</td>\n",
              "      <td>-97252</td>\n",
              "      <td>60998</td>\n",
              "      <td>-121228</td>\n",
              "      <td>1.0</td>\n",
              "    </tr>\n",
              "    <tr>\n",
              "      <th>3</th>\n",
              "      <td>2022-08-04 13:56:16</td>\n",
              "      <td>5</td>\n",
              "      <td>-67893</td>\n",
              "      <td>53940</td>\n",
              "      <td>-94672</td>\n",
              "      <td>1.0</td>\n",
              "    </tr>\n",
              "    <tr>\n",
              "      <th>4</th>\n",
              "      <td>2022-08-04 13:56:16</td>\n",
              "      <td>4</td>\n",
              "      <td>-189185</td>\n",
              "      <td>164702</td>\n",
              "      <td>-270358</td>\n",
              "      <td>1.0</td>\n",
              "    </tr>\n",
              "    <tr>\n",
              "      <th>...</th>\n",
              "      <td>...</td>\n",
              "      <td>...</td>\n",
              "      <td>...</td>\n",
              "      <td>...</td>\n",
              "      <td>...</td>\n",
              "      <td>...</td>\n",
              "    </tr>\n",
              "    <tr>\n",
              "      <th>151571</th>\n",
              "      <td>2022-08-04 19:12:02</td>\n",
              "      <td>5</td>\n",
              "      <td>-67730</td>\n",
              "      <td>54210</td>\n",
              "      <td>-94840</td>\n",
              "      <td>21.0</td>\n",
              "    </tr>\n",
              "    <tr>\n",
              "      <th>151572</th>\n",
              "      <td>2022-08-04 19:12:02</td>\n",
              "      <td>4</td>\n",
              "      <td>-190398</td>\n",
              "      <td>165740</td>\n",
              "      <td>-271702</td>\n",
              "      <td>21.0</td>\n",
              "    </tr>\n",
              "    <tr>\n",
              "      <th>151573</th>\n",
              "      <td>2022-08-04 19:12:02</td>\n",
              "      <td>2</td>\n",
              "      <td>-89908</td>\n",
              "      <td>59707</td>\n",
              "      <td>-115390</td>\n",
              "      <td>21.0</td>\n",
              "    </tr>\n",
              "    <tr>\n",
              "      <th>151574</th>\n",
              "      <td>2022-08-04 19:12:02</td>\n",
              "      <td>3</td>\n",
              "      <td>-68201</td>\n",
              "      <td>56946</td>\n",
              "      <td>-95089</td>\n",
              "      <td>21.0</td>\n",
              "    </tr>\n",
              "    <tr>\n",
              "      <th>151575</th>\n",
              "      <td>2022-08-04 19:12:02</td>\n",
              "      <td>1</td>\n",
              "      <td>-156119</td>\n",
              "      <td>125512</td>\n",
              "      <td>-210482</td>\n",
              "      <td>21.0</td>\n",
              "    </tr>\n",
              "  </tbody>\n",
              "</table>\n",
              "<p>151576 rows × 6 columns</p>\n",
              "</div>\n",
              "      <button class=\"colab-df-convert\" onclick=\"convertToInteractive('df-de347944-2021-46fc-bf1c-e83ca2bcfe41')\"\n",
              "              title=\"Convert this dataframe to an interactive table.\"\n",
              "              style=\"display:none;\">\n",
              "        \n",
              "  <svg xmlns=\"http://www.w3.org/2000/svg\" height=\"24px\"viewBox=\"0 0 24 24\"\n",
              "       width=\"24px\">\n",
              "    <path d=\"M0 0h24v24H0V0z\" fill=\"none\"/>\n",
              "    <path d=\"M18.56 5.44l.94 2.06.94-2.06 2.06-.94-2.06-.94-.94-2.06-.94 2.06-2.06.94zm-11 1L8.5 8.5l.94-2.06 2.06-.94-2.06-.94L8.5 2.5l-.94 2.06-2.06.94zm10 10l.94 2.06.94-2.06 2.06-.94-2.06-.94-.94-2.06-.94 2.06-2.06.94z\"/><path d=\"M17.41 7.96l-1.37-1.37c-.4-.4-.92-.59-1.43-.59-.52 0-1.04.2-1.43.59L10.3 9.45l-7.72 7.72c-.78.78-.78 2.05 0 2.83L4 21.41c.39.39.9.59 1.41.59.51 0 1.02-.2 1.41-.59l7.78-7.78 2.81-2.81c.8-.78.8-2.07 0-2.86zM5.41 20L4 18.59l7.72-7.72 1.47 1.35L5.41 20z\"/>\n",
              "  </svg>\n",
              "      </button>\n",
              "      \n",
              "  <style>\n",
              "    .colab-df-container {\n",
              "      display:flex;\n",
              "      flex-wrap:wrap;\n",
              "      gap: 12px;\n",
              "    }\n",
              "\n",
              "    .colab-df-convert {\n",
              "      background-color: #E8F0FE;\n",
              "      border: none;\n",
              "      border-radius: 50%;\n",
              "      cursor: pointer;\n",
              "      display: none;\n",
              "      fill: #1967D2;\n",
              "      height: 32px;\n",
              "      padding: 0 0 0 0;\n",
              "      width: 32px;\n",
              "    }\n",
              "\n",
              "    .colab-df-convert:hover {\n",
              "      background-color: #E2EBFA;\n",
              "      box-shadow: 0px 1px 2px rgba(60, 64, 67, 0.3), 0px 1px 3px 1px rgba(60, 64, 67, 0.15);\n",
              "      fill: #174EA6;\n",
              "    }\n",
              "\n",
              "    [theme=dark] .colab-df-convert {\n",
              "      background-color: #3B4455;\n",
              "      fill: #D2E3FC;\n",
              "    }\n",
              "\n",
              "    [theme=dark] .colab-df-convert:hover {\n",
              "      background-color: #434B5C;\n",
              "      box-shadow: 0px 1px 3px 1px rgba(0, 0, 0, 0.15);\n",
              "      filter: drop-shadow(0px 1px 2px rgba(0, 0, 0, 0.3));\n",
              "      fill: #FFFFFF;\n",
              "    }\n",
              "  </style>\n",
              "\n",
              "      <script>\n",
              "        const buttonEl =\n",
              "          document.querySelector('#df-de347944-2021-46fc-bf1c-e83ca2bcfe41 button.colab-df-convert');\n",
              "        buttonEl.style.display =\n",
              "          google.colab.kernel.accessAllowed ? 'block' : 'none';\n",
              "\n",
              "        async function convertToInteractive(key) {\n",
              "          const element = document.querySelector('#df-de347944-2021-46fc-bf1c-e83ca2bcfe41');\n",
              "          const dataTable =\n",
              "            await google.colab.kernel.invokeFunction('convertToInteractive',\n",
              "                                                     [key], {});\n",
              "          if (!dataTable) return;\n",
              "\n",
              "          const docLinkHtml = 'Like what you see? Visit the ' +\n",
              "            '<a target=\"_blank\" href=https://colab.research.google.com/notebooks/data_table.ipynb>data table notebook</a>'\n",
              "            + ' to learn more about interactive tables.';\n",
              "          element.innerHTML = '';\n",
              "          dataTable['output_type'] = 'display_data';\n",
              "          await google.colab.output.renderOutput(dataTable, element);\n",
              "          const docLink = document.createElement('div');\n",
              "          docLink.innerHTML = docLinkHtml;\n",
              "          element.appendChild(docLink);\n",
              "        }\n",
              "      </script>\n",
              "    </div>\n",
              "  </div>\n",
              "  "
            ]
          },
          "metadata": {},
          "execution_count": 4
        }
      ]
    },
    {
      "cell_type": "markdown",
      "source": [
        "# 설명적 분석(Descriptive Analytics)"
      ],
      "metadata": {
        "id": "NkiuAKKbJiwD"
      }
    },
    {
      "cell_type": "markdown",
      "source": [
        "## RunOrder별 생산시간 분석"
      ],
      "metadata": {
        "id": "Y_UpKv5QMbgn"
      }
    },
    {
      "cell_type": "markdown",
      "source": [
        "### 작업별 소요시간을 단순히 더했을 때"
      ],
      "metadata": {
        "id": "TltBYlYuNdYl"
      }
    },
    {
      "cell_type": "code",
      "source": [
        "df_oper.groupby('RunOrder').sum()['Real_Time difference'].plot(kind='bar', rot=0)"
      ],
      "metadata": {
        "colab": {
          "base_uri": "https://localhost:8080/",
          "height": 529
        },
        "id": "sf83MLcpJzmF",
        "outputId": "a9b5f92f-d02a-4b29-e55c-df77b8aa8203"
      },
      "execution_count": null,
      "outputs": [
        {
          "output_type": "stream",
          "name": "stderr",
          "text": [
            "<ipython-input-5-2377805685d7>:1: FutureWarning: The default value of numeric_only in DataFrameGroupBy.sum is deprecated. In a future version, numeric_only will default to False. Either specify numeric_only or select only columns which should be valid for the function.\n",
            "  df_oper.groupby('RunOrder').sum()['Real_Time difference'].plot(kind='bar', rot=0)\n"
          ]
        },
        {
          "output_type": "execute_result",
          "data": {
            "text/plain": [
              "<Axes: xlabel='RunOrder'>"
            ]
          },
          "metadata": {},
          "execution_count": 5
        },
        {
          "output_type": "display_data",
          "data": {
            "text/plain": [
              "<Figure size 640x480 with 1 Axes>"
            ],
            "image/png": "[encoded data removed]"
          },
          "metadata": {}
        }
      ]
    },
    {
      "cell_type": "markdown",
      "source": [
        "### RunOrder당 종료시각에서 시작시각을 뺐을 때"
      ],
      "metadata": {
        "id": "KPd8IAo8NhPJ"
      }
    },
    {
      "cell_type": "code",
      "source": [
        "(df_oper[df_oper['NextStepNo']==0][['RunOrder','End']].set_index('RunOrder')['End'] - df_oper[df_oper['FirstStep']==True][['RunOrder','Start']].set_index('RunOrder')['Start']).dt.seconds.plot(kind='bar', rot=0)"
      ],
      "metadata": {
        "colab": {
          "base_uri": "https://localhost:8080/",
          "height": 469
        },
        "id": "IDiWbV9QNvvr",
        "outputId": "a98f26f0-3b74-4cd2-ba4a-86fee05dcead"
      },
      "execution_count": null,
      "outputs": [
        {
          "output_type": "execute_result",
          "data": {
            "text/plain": [
              "<Axes: xlabel='RunOrder'>"
            ]
          },
          "metadata": {},
          "execution_count": 6
        },
        {
          "output_type": "display_data",
          "data": {
            "text/plain": [
              "<Figure size 640x480 with 1 Axes>"
            ],
            "image/png": "[encoded data removed]"
          },
          "metadata": {}
        }
      ]
    },
    {
      "cell_type": "markdown",
      "source": [
        "큰 차이는 없어보임.."
      ],
      "metadata": {
        "id": "KLLqa_uDe6LC"
      }
    },
    {
      "cell_type": "markdown",
      "source": [
        "## StepNo별 작업시간 분석"
      ],
      "metadata": {
        "id": "6czCAcnHMfJE"
      }
    },
    {
      "cell_type": "markdown",
      "source": [
        "### 누적막대그래프로 표현하기(전처리 전)"
      ],
      "metadata": {
        "id": "awg2AXRWTmwu"
      }
    },
    {
      "cell_type": "code",
      "source": [
        "df_oper.pivot(index='RunOrder', columns='StepNo', values='Real_Time difference').plot.bar(stacked=True, rot=0).legend(loc='lower left', bbox_to_anchor=(1.0, 0.45))"
      ],
      "metadata": {
        "colab": {
          "base_uri": "https://localhost:8080/",
          "height": 469
        },
        "id": "1vO_uYvoSnHw",
        "outputId": "2af08013-5f1f-42e9-d46e-655251e790ea"
      },
      "execution_count": null,
      "outputs": [
        {
          "output_type": "execute_result",
          "data": {
            "text/plain": [
              "<matplotlib.legend.Legend at 0x7fc2d46ca800>"
            ]
          },
          "metadata": {},
          "execution_count": 7
        },
        {
          "output_type": "display_data",
          "data": {
            "text/plain": [
              "<Figure size 640x480 with 1 Axes>"
            ],
            "image/png": "[encoded data removed]"
          },
          "metadata": {}
        }
      ]
    },
    {
      "cell_type": "markdown",
      "source": [
        "RunOrder가 8 미만인 경우와 8 이상인 경우가 다름. 하나씩 밀리는 것으로 확인"
      ],
      "metadata": {
        "id": "45fvr78FfOrA"
      }
    },
    {
      "cell_type": "markdown",
      "source": [
        "![image.png](data:image/png;base64,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)"
      ],
      "metadata": {
        "id": "E1TKlfxsfrH5"
      }
    },
    {
      "cell_type": "markdown",
      "source": [
        "- 보시다시피 RunOrder 8번부터 퓨즈가 추가되어 Drilling이 추가되었기 때문.\n",
        "- 때문에 \"작업별\" 소요시간을 파악하려면 StepNo별로 평균을 나타내어서는 안됨!"
      ],
      "metadata": {
        "id": "kYsdnmKOfuLX"
      }
    },
    {
      "cell_type": "markdown",
      "source": [
        "### 누적막대그래프로 표현하기(전처리 후)"
      ],
      "metadata": {
        "id": "cdxNkEfMVjVM"
      }
    },
    {
      "cell_type": "code",
      "source": [
        "df_oper['ResourceID_For_StepNo'] = df_oper['ResourceID']\n",
        "con = (df_oper['FirstStep']==False) & (df_oper['ResourceID']==1)\n",
        "df_oper.loc[con, 'ResourceID_For_StepNo'] = 9"
      ],
      "metadata": {
        "id": "ChKtaXZs5neK"
      },
      "execution_count": null,
      "outputs": []
    },
    {
      "cell_type": "markdown",
      "source": [
        "Release와 구분하기 위해 Store Step을 9로 지정한 ResourceID_For_StepNo Column을 새로 지정"
      ],
      "metadata": {
        "id": "JZMPuGtc6_lx"
      }
    },
    {
      "cell_type": "code",
      "source": [
        "df_oper.pivot(index='RunOrder', columns='ResourceID_For_StepNo', values='Real_Time difference').plot.bar(stacked=True, rot=0).legend(loc='lower left', bbox_to_anchor=(1.0, 0.45))"
      ],
      "metadata": {
        "colab": {
          "base_uri": "https://localhost:8080/",
          "height": 469
        },
        "id": "oxCF-OT0xU-X",
        "outputId": "5c690905-7651-42d2-e76f-8b66389e4ed9"
      },
      "execution_count": null,
      "outputs": [
        {
          "output_type": "execute_result",
          "data": {
            "text/plain": [
              "<matplotlib.legend.Legend at 0x7fc2d46ca7a0>"
            ]
          },
          "metadata": {},
          "execution_count": 9
        },
        {
          "output_type": "display_data",
          "data": {
            "text/plain": [
              "<Figure size 640x480 with 1 Axes>"
            ],
            "image/png": "[encoded data removed]"
          },
          "metadata": {}
        }
      ]
    },
    {
      "cell_type": "markdown",
      "source": [
        "### StepNo별 작업시간 평균 계산"
      ],
      "metadata": {
        "id": "QIVFA_9F0r6_"
      }
    },
    {
      "cell_type": "code",
      "source": [
        "df_oper.groupby('ResourceID_For_StepNo').mean()['Real_Time difference'].plot(kind='bar', rot=0)"
      ],
      "metadata": {
        "colab": {
          "base_uri": "https://localhost:8080/",
          "height": 531
        },
        "id": "_mqp7SLffXEP",
        "outputId": "44547732-9ccc-47c6-e6d1-044885c7ea70"
      },
      "execution_count": null,
      "outputs": [
        {
          "output_type": "stream",
          "name": "stderr",
          "text": [
            "<ipython-input-10-7a7711bf4bf7>:1: FutureWarning: The default value of numeric_only in DataFrameGroupBy.mean is deprecated. In a future version, numeric_only will default to False. Either specify numeric_only or select only columns which should be valid for the function.\n",
            "  df_oper.groupby('ResourceID_For_StepNo').mean()['Real_Time difference'].plot(kind='bar', rot=0)\n"
          ]
        },
        {
          "output_type": "execute_result",
          "data": {
            "text/plain": [
              "<Axes: xlabel='ResourceID_For_StepNo'>"
            ]
          },
          "metadata": {},
          "execution_count": 10
        },
        {
          "output_type": "display_data",
          "data": {
            "text/plain": [
              "<Figure size 640x480 with 1 Axes>"
            ],
            "image/png": "[encoded data removed]"
          },
          "metadata": {}
        }
      ]
    },
    {
      "cell_type": "markdown",
      "source": [
        "## 제품유형(Fuse 개수)이 생산시간에 미치는 영향도 분석"
      ],
      "metadata": {
        "id": "JcsdYH4SSg4R"
      }
    },
    {
      "cell_type": "markdown",
      "source": [
        "### 총 소요시간 분석"
      ],
      "metadata": {
        "id": "YYqhkMYy3ngx"
      }
    },
    {
      "cell_type": "code",
      "source": [
        "df_oper.groupby('Fuse').sum()[['Real_Time difference']].plot(kind='bar', rot=0)"
      ],
      "metadata": {
        "colab": {
          "base_uri": "https://localhost:8080/",
          "height": 529
        },
        "id": "bnJG4gSBSIaS",
        "outputId": "6f094e48-c879-4290-ee95-70fb4192d5c6"
      },
      "execution_count": null,
      "outputs": [
        {
          "output_type": "stream",
          "name": "stderr",
          "text": [
            "<ipython-input-11-a6f4754e4bb5>:1: FutureWarning: The default value of numeric_only in DataFrameGroupBy.sum is deprecated. In a future version, numeric_only will default to False. Either specify numeric_only or select only columns which should be valid for the function.\n",
            "  df_oper.groupby('Fuse').sum()[['Real_Time difference']].plot(kind='bar', rot=0)\n"
          ]
        },
        {
          "output_type": "execute_result",
          "data": {
            "text/plain": [
              "<Axes: xlabel='Fuse'>"
            ]
          },
          "metadata": {},
          "execution_count": 11
        },
        {
          "output_type": "display_data",
          "data": {
            "text/plain": [
              "<Figure size 640x480 with 1 Axes>"
            ],
            "image/png": "[encoded data removed]"
          },
          "metadata": {}
        }
      ]
    },
    {
      "cell_type": "markdown",
      "source": [
        "### StepNo별 소요시간 비교"
      ],
      "metadata": {
        "id": "jRq1aeT-3qDK"
      }
    },
    {
      "cell_type": "code",
      "source": [
        "df_oper_tmp = df_oper.groupby(['Fuse', 'ResourceID_For_StepNo']).mean()[['Real_Time difference']]\n",
        "df_oper_tmp.reset_index().pivot(index='Fuse', columns='ResourceID_For_StepNo', values='Real_Time difference').fillna(0).T.plot(kind='bar', rot=0)"
      ],
      "metadata": {
        "colab": {
          "base_uri": "https://localhost:8080/",
          "height": 529
        },
        "id": "HebXe-882z6A",
        "outputId": "83331e3d-d918-4f9c-fe76-9f9c50254e37"
      },
      "execution_count": null,
      "outputs": [
        {
          "output_type": "stream",
          "name": "stderr",
          "text": [
            "<ipython-input-12-1ed2186d2458>:1: FutureWarning: The default value of numeric_only in DataFrameGroupBy.mean is deprecated. In a future version, numeric_only will default to False. Either specify numeric_only or select only columns which should be valid for the function.\n",
            "  df_oper_tmp = df_oper.groupby(['Fuse', 'ResourceID_For_StepNo']).mean()[['Real_Time difference']]\n"
          ]
        },
        {
          "output_type": "execute_result",
          "data": {
            "text/plain": [
              "<Axes: xlabel='ResourceID_For_StepNo'>"
            ]
          },
          "metadata": {},
          "execution_count": 12
        },
        {
          "output_type": "display_data",
          "data": {
            "text/plain": [
              "<Figure size 640x480 with 1 Axes>"
            ],
            "image/png": "[encoded data removed]"
          },
          "metadata": {}
        }
      ]
    },
    {
      "cell_type": "markdown",
      "source": [
        "## 1개 RunOrder에 대한 ResourceID별 간트차트 생성"
      ],
      "metadata": {
        "id": "YL7nLbFC1wRv"
      }
    },
    {
      "cell_type": "code",
      "source": [
        "df_oper[df_oper['RunOrder']==18]\n",
        "fig = px.timeline(df_oper[df_oper['RunOrder']==18], x_start='Start', x_end='End', y='ResourceID')\n",
        "fig.update_yaxes(autorange=\"reversed\")\n",
        "fig.show()"
      ],
      "metadata": {
        "colab": {
          "base_uri": "https://localhost:8080/",
          "height": 542
        },
        "id": "3mZsPze81xm1",
        "outputId": "e9674989-b6d8-4842-d54d-44e23258a20b"
      },
      "execution_count": null,
      "outputs": [
        {
          "output_type": "display_data",
          "data": {
            "text/html": [
              "<html>\n",
              "<head><meta charset=\"utf-8\" /></head>\n",
              "<body>\n",
              "    <div>            <script src=\"https://cdnjs.cloudflare.com/ajax/libs/mathjax/2.7.5/MathJax.js?config=TeX-AMS-MML_SVG\"></script><script type=\"text/javascript\">if (window.MathJax && window.MathJax.Hub && window.MathJax.Hub.Config) {window.MathJax.Hub.Config({SVG: {font: \"STIX-Web\"}});}</script>                <script type=\"text/javascript\">window.PlotlyConfig = {MathJaxConfig: 'local'};</script>\n",
              "        <script src=\"https://cdn.plot.ly/plotly-2.18.2.min.js\"></script>                <div id=\"daceefa3-f05b-45de-b0b8-59b08a6c98a2\" class=\"plotly-graph-div\" style=\"height:525px; width:100%;\"></div>            <script type=\"text/javascript\">                                    window.PLOTLYENV=window.PLOTLYENV || {};                                    if (document.getElementById(\"daceefa3-f05b-45de-b0b8-59b08a6c98a2\")) {                    Plotly.newPlot(                        \"daceefa3-f05b-45de-b0b8-59b08a6c98a2\",                        [{\"alignmentgroup\":\"True\",\"base\":[\"2022-08-04T18:04:31\",\"2022-08-04T18:05:21\",\"2022-08-04T18:05:35\",\"2022-08-04T18:06:09\",\"2022-08-04T18:08:12\",\"2022-08-04T18:08:38\",\"2022-08-04T18:08:52\",\"2022-08-04T18:09:53\",\"2022-08-04T18:13:37\"],\"hovertemplate\":\"Start=%{base}<br>End=%{x}<br>ResourceID=%{y}<extra></extra>\",\"legendgroup\":\"\",\"marker\":{\"color\":\"#636efa\",\"pattern\":{\"shape\":\"\"}},\"name\":\"\",\"offsetgroup\":\"\",\"orientation\":\"h\",\"showlegend\":false,\"textposition\":\"auto\",\"x\":[15000.0,2000.0,6000.0,108000.0,1000.0,2000.0,48000.0,204000.0,14000.0],\"xaxis\":\"x\",\"y\":[1,2,3,4,5,6,7,8,1],\"yaxis\":\"y\",\"type\":\"bar\"}],                        {\"template\":{\"data\":{\"histogram2dcontour\":[{\"type\":\"histogram2dcontour\",\"colorbar\":{\"outlinewidth\":0,\"ticks\":\"\"},\"colorscale\":[[0.0,\"#0d0887\"],[0.1111111111111111,\"#46039f\"],[0.2222222222222222,\"#7201a8\"],[0.3333333333333333,\"#9c179e\"],[0.4444444444444444,\"#bd3786\"],[0.5555555555555556,\"#d8576b\"],[0.6666666666666666,\"#ed7953\"],[0.7777777777777778,\"#fb9f3a\"],[0.8888888888888888,\"#fdca26\"],[1.0,\"#f0f921\"]]}],\"choropleth\":[{\"type\":\"choropleth\",\"colorbar\":{\"outlinewidth\":0,\"ticks\":\"\"}}],\"histogram2d\":[{\"type\":\"histogram2d\",\"colorbar\":{\"outlinewidth\":0,\"ticks\":\"\"},\"colorscale\":[[0.0,\"#0d0887\"],[0.1111111111111111,\"#46039f\"],[0.2222222222222222,\"#7201a8\"],[0.3333333333333333,\"#9c179e\"],[0.4444444444444444,\"#bd3786\"],[0.5555555555555556,\"#d8576b\"],[0.6666666666666666,\"#ed7953\"],[0.7777777777777778,\"#fb9f3a\"],[0.8888888888888888,\"#fdca26\"],[1.0,\"#f0f921\"]]}],\"heatmap\":[{\"type\":\"heatmap\",\"colorbar\":{\"outlinewidth\":0,\"ticks\":\"\"},\"colorscale\":[[0.0,\"#0d0887\"],[0.1111111111111111,\"#46039f\"],[0.2222222222222222,\"#7201a8\"],[0.3333333333333333,\"#9c179e\"],[0.4444444444444444,\"#bd3786\"],[0.5555555555555556,\"#d8576b\"],[0.6666666666666666,\"#ed7953\"],[0.7777777777777778,\"#fb9f3a\"],[0.8888888888888888,\"#fdca26\"],[1.0,\"#f0f921\"]]}],\"heatmapgl\":[{\"type\":\"heatmapgl\",\"colorbar\":{\"outlinewidth\":0,\"ticks\":\"\"},\"colorscale\":[[0.0,\"#0d0887\"],[0.1111111111111111,\"#46039f\"],[0.2222222222222222,\"#7201a8\"],[0.3333333333333333,\"#9c179e\"],[0.4444444444444444,\"#bd3786\"],[0.5555555555555556,\"#d8576b\"],[0.6666666666666666,\"#ed7953\"],[0.7777777777777778,\"#fb9f3a\"],[0.8888888888888888,\"#fdca26\"],[1.0,\"#f0f921\"]]}],\"contourcarpet\":[{\"type\":\"contourcarpet\",\"colorbar\":{\"outlinewidth\":0,\"ticks\":\"\"}}],\"contour\":[{\"type\":\"contour\",\"colorbar\":{\"outlinewidth\":0,\"ticks\":\"\"},\"colorscale\":[[0.0,\"#0d0887\"],[0.1111111111111111,\"#46039f\"],[0.2222222222222222,\"#7201a8\"],[0.3333333333333333,\"#9c179e\"],[0.4444444444444444,\"#bd3786\"],[0.5555555555555556,\"#d8576b\"],[0.6666666666666666,\"#ed7953\"],[0.7777777777777778,\"#fb9f3a\"],[0.8888888888888888,\"#fdca26\"],[1.0,\"#f0f921\"]]}],\"surface\":[{\"type\":\"surface\",\"colorbar\":{\"outlinewidth\":0,\"ticks\":\"\"},\"colorscale\":[[0.0,\"#0d0887\"],[0.1111111111111111,\"#46039f\"],[0.2222222222222222,\"#7201a8\"],[0.3333333333333333,\"#9c179e\"],[0.4444444444444444,\"#bd3786\"],[0.5555555555555556,\"#d8576b\"],[0.6666666666666666,\"#ed7953\"],[0.7777777777777778,\"#fb9f3a\"],[0.8888888888888888,\"#fdca26\"],[1.0,\"#f0f921\"]]}],\"mesh3d\":[{\"type\":\"mesh3d\",\"colorbar\":{\"outlinewidth\":0,\"ticks\":\"\"}}],\"scatter\":[{\"fillpattern\":{\"fillmode\":\"overlay\",\"size\":10,\"solidity\":0.2},\"type\":\"scatter\"}],\"parcoords\":[{\"type\":\"parcoords\",\"line\":{\"colorbar\":{\"outlinewidth\":0,\"ticks\":\"\"}}}],\"scatterpolargl\":[{\"type\":\"scatterpolargl\",\"marker\":{\"colorbar\":{\"outlinewidth\":0,\"ticks\":\"\"}}}],\"bar\":[{\"error_x\":{\"color\":\"#2a3f5f\"},\"error_y\":{\"color\":\"#2a3f5f\"},\"marker\":{\"line\":{\"color\":\"#E5ECF6\",\"width\":0.5},\"pattern\":{\"fillmode\":\"overlay\",\"size\":10,\"solidity\":0.2}},\"type\":\"bar\"}],\"scattergeo\":[{\"type\":\"scattergeo\",\"marker\":{\"colorbar\":{\"outlinewidth\":0,\"ticks\":\"\"}}}],\"scatterpolar\":[{\"type\":\"scatterpolar\",\"marker\":{\"colorbar\":{\"outlinewidth\":0,\"ticks\":\"\"}}}],\"histogram\":[{\"marker\":{\"pattern\":{\"fillmode\":\"overlay\",\"size\":10,\"solidity\":0.2}},\"type\":\"histogram\"}],\"scattergl\":[{\"type\":\"scattergl\",\"marker\":{\"colorbar\":{\"outlinewidth\":0,\"ticks\":\"\"}}}],\"scatter3d\":[{\"type\":\"scatter3d\",\"line\":{\"colorbar\":{\"outlinewidth\":0,\"ticks\":\"\"}},\"marker\":{\"colorbar\":{\"outlinewidth\":0,\"ticks\":\"\"}}}],\"scattermapbox\":[{\"type\":\"scattermapbox\",\"marker\":{\"colorbar\":{\"outlinewidth\":0,\"ticks\":\"\"}}}],\"scatterternary\":[{\"type\":\"scatterternary\",\"marker\":{\"colorbar\":{\"outlinewidth\":0,\"ticks\":\"\"}}}],\"scattercarpet\":[{\"type\":\"scattercarpet\",\"marker\":{\"colorbar\":{\"outlinewidth\":0,\"ticks\":\"\"}}}],\"carpet\":[{\"aaxis\":{\"endlinecolor\":\"#2a3f5f\",\"gridcolor\":\"white\",\"linecolor\":\"white\",\"minorgridcolor\":\"white\",\"startlinecolor\":\"#2a3f5f\"},\"baxis\":{\"endlinecolor\":\"#2a3f5f\",\"gridcolor\":\"white\",\"linecolor\":\"white\",\"minorgridcolor\":\"white\",\"startlinecolor\":\"#2a3f5f\"},\"type\":\"carpet\"}],\"table\":[{\"cells\":{\"fill\":{\"color\":\"#EBF0F8\"},\"line\":{\"color\":\"white\"}},\"header\":{\"fill\":{\"color\":\"#C8D4E3\"},\"line\":{\"color\":\"white\"}},\"type\":\"table\"}],\"barpolar\":[{\"marker\":{\"line\":{\"color\":\"#E5ECF6\",\"width\":0.5},\"pattern\":{\"fillmode\":\"overlay\",\"size\":10,\"solidity\":0.2}},\"type\":\"barpolar\"}],\"pie\":[{\"automargin\":true,\"type\":\"pie\"}]},\"layout\":{\"autotypenumbers\":\"strict\",\"colorway\":[\"#636efa\",\"#EF553B\",\"#00cc96\",\"#ab63fa\",\"#FFA15A\",\"#19d3f3\",\"#FF6692\",\"#B6E880\",\"#FF97FF\",\"#FECB52\"],\"font\":{\"color\":\"#2a3f5f\"},\"hovermode\":\"closest\",\"hoverlabel\":{\"align\":\"left\"},\"paper_bgcolor\":\"white\",\"plot_bgcolor\":\"#E5ECF6\",\"polar\":{\"bgcolor\":\"#E5ECF6\",\"angularaxis\":{\"gridcolor\":\"white\",\"linecolor\":\"white\",\"ticks\":\"\"},\"radialaxis\":{\"gridcolor\":\"white\",\"linecolor\":\"white\",\"ticks\":\"\"}},\"ternary\":{\"bgcolor\":\"#E5ECF6\",\"aaxis\":{\"gridcolor\":\"white\",\"linecolor\":\"white\",\"ticks\":\"\"},\"baxis\":{\"gridcolor\":\"white\",\"linecolor\":\"white\",\"ticks\":\"\"},\"caxis\":{\"gridcolor\":\"white\",\"linecolor\":\"white\",\"ticks\":\"\"}},\"coloraxis\":{\"colorbar\":{\"outlinewidth\":0,\"ticks\":\"\"}},\"colorscale\":{\"sequential\":[[0.0,\"#0d0887\"],[0.1111111111111111,\"#46039f\"],[0.2222222222222222,\"#7201a8\"],[0.3333333333333333,\"#9c179e\"],[0.4444444444444444,\"#bd3786\"],[0.5555555555555556,\"#d8576b\"],[0.6666666666666666,\"#ed7953\"],[0.7777777777777778,\"#fb9f3a\"],[0.8888888888888888,\"#fdca26\"],[1.0,\"#f0f921\"]],\"sequentialminus\":[[0.0,\"#0d0887\"],[0.1111111111111111,\"#46039f\"],[0.2222222222222222,\"#7201a8\"],[0.3333333333333333,\"#9c179e\"],[0.4444444444444444,\"#bd3786\"],[0.5555555555555556,\"#d8576b\"],[0.6666666666666666,\"#ed7953\"],[0.7777777777777778,\"#fb9f3a\"],[0.8888888888888888,\"#fdca26\"],[1.0,\"#f0f921\"]],\"diverging\":[[0,\"#8e0152\"],[0.1,\"#c51b7d\"],[0.2,\"#de77ae\"],[0.3,\"#f1b6da\"],[0.4,\"#fde0ef\"],[0.5,\"#f7f7f7\"],[0.6,\"#e6f5d0\"],[0.7,\"#b8e186\"],[0.8,\"#7fbc41\"],[0.9,\"#4d9221\"],[1,\"#276419\"]]},\"xaxis\":{\"gridcolor\":\"white\",\"linecolor\":\"white\",\"ticks\":\"\",\"title\":{\"standoff\":15},\"zerolinecolor\":\"white\",\"automargin\":true,\"zerolinewidth\":2},\"yaxis\":{\"gridcolor\":\"white\",\"linecolor\":\"white\",\"ticks\":\"\",\"title\":{\"standoff\":15},\"zerolinecolor\":\"white\",\"automargin\":true,\"zerolinewidth\":2},\"scene\":{\"xaxis\":{\"backgroundcolor\":\"#E5ECF6\",\"gridcolor\":\"white\",\"linecolor\":\"white\",\"showbackground\":true,\"ticks\":\"\",\"zerolinecolor\":\"white\",\"gridwidth\":2},\"yaxis\":{\"backgroundcolor\":\"#E5ECF6\",\"gridcolor\":\"white\",\"linecolor\":\"white\",\"showbackground\":true,\"ticks\":\"\",\"zerolinecolor\":\"white\",\"gridwidth\":2},\"zaxis\":{\"backgroundcolor\":\"#E5ECF6\",\"gridcolor\":\"white\",\"linecolor\":\"white\",\"showbackground\":true,\"ticks\":\"\",\"zerolinecolor\":\"white\",\"gridwidth\":2}},\"shapedefaults\":{\"line\":{\"color\":\"#2a3f5f\"}},\"annotationdefaults\":{\"arrowcolor\":\"#2a3f5f\",\"arrowhead\":0,\"arrowwidth\":1},\"geo\":{\"bgcolor\":\"white\",\"landcolor\":\"#E5ECF6\",\"subunitcolor\":\"white\",\"showland\":true,\"showlakes\":true,\"lakecolor\":\"white\"},\"title\":{\"x\":0.05},\"mapbox\":{\"style\":\"light\"}}},\"xaxis\":{\"anchor\":\"y\",\"domain\":[0.0,1.0],\"type\":\"date\"},\"yaxis\":{\"anchor\":\"x\",\"domain\":[0.0,1.0],\"title\":{\"text\":\"ResourceID\"},\"autorange\":\"reversed\"},\"legend\":{\"tracegroupgap\":0},\"margin\":{\"t\":60},\"barmode\":\"overlay\"},                        {\"responsive\": true}                    ).then(function(){\n",
              "                            \n",
              "var gd = document.getElementById('daceefa3-f05b-45de-b0b8-59b08a6c98a2');\n",
              "var x = new MutationObserver(function (mutations, observer) {{\n",
              "        var display = window.getComputedStyle(gd).display;\n",
              "        if (!display || display === 'none') {{\n",
              "            console.log([gd, 'removed!']);\n",
              "            Plotly.purge(gd);\n",
              "            observer.disconnect();\n",
              "        }}\n",
              "}});\n",
              "\n",
              "// Listen for the removal of the full notebook cells\n",
              "var notebookContainer = gd.closest('#notebook-container');\n",
              "if (notebookContainer) {{\n",
              "    x.observe(notebookContainer, {childList: true});\n",
              "}}\n",
              "\n",
              "// Listen for the clearing of the current output cell\n",
              "var outputEl = gd.closest('.output');\n",
              "if (outputEl) {{\n",
              "    x.observe(outputEl, {childList: true});\n",
              "}}\n",
              "\n",
              "                        })                };                            </script>        </div>\n",
              "</body>\n",
              "</html>"
            ]
          },
          "metadata": {}
        }
      ]
    },
    {
      "cell_type": "markdown",
      "source": [
        "## ResourceID별 설비종합효율 분석"
      ],
      "metadata": {
        "id": "OykfCc0nAN4t"
      }
    },
    {
      "cell_type": "markdown",
      "source": [
        "### 시간가동률\n",
        " - 가동시간 / 부하시간\n",
        "  - 가동시간 = 부하시간 - 정지시간\n",
        "  - 부하시간 = 조업시간 - 비근무시간"
      ],
      "metadata": {
        "id": "9AtHzAeGQd7S"
      }
    },
    {
      "cell_type": "code",
      "source": [
        "df_oper[df_oper['ErrorStepNo']!=0]"
      ],
      "metadata": {
        "colab": {
          "base_uri": "https://localhost:8080/",
          "height": 160
        },
        "id": "uYlExJRPQs1f",
        "outputId": "40246131-2e8a-49b2-d047-c5868335dd20"
      },
      "execution_count": null,
      "outputs": [
        {
          "output_type": "execute_result",
          "data": {
            "text/plain": [
              "Empty DataFrame\n",
              "Columns: [RunOrder, Type, PNo, WPNo, StepNo, ONo, OPos, Description, OpNo, NextStepNo, FirstStep, ErrorStepNo, NewPNo, PlanedStart, PlanedEnd, Start, End, Real_Time difference, ResourceID, Temperature, Temperature_Time, Drilling_Count, Fuse, ResourceID_For_StepNo]\n",
              "Index: []\n",
              "\n",
              "[0 rows x 24 columns]"
            ],
            "text/html": [
              "\n",
              "  <div id=\"df-91c76a26-0c4b-4bff-a35f-9053d6762407\">\n",
              "    <div class=\"colab-df-container\">\n",
              "      <div>\n",
              "<style scoped>\n",
              "    .dataframe tbody tr th:only-of-type {\n",
              "        vertical-align: middle;\n",
              "    }\n",
              "\n",
              "    .dataframe tbody tr th {\n",
              "        vertical-align: top;\n",
              "    }\n",
              "\n",
              "    .dataframe thead th {\n",
              "        text-align: right;\n",
              "    }\n",
              "</style>\n",
              "<table border=\"1\" class=\"dataframe\">\n",
              "  <thead>\n",
              "    <tr style=\"text-align: right;\">\n",
              "      <th></th>\n",
              "      <th>RunOrder</th>\n",
              "      <th>Type</th>\n",
              "      <th>PNo</th>\n",
              "      <th>WPNo</th>\n",
              "      <th>StepNo</th>\n",
              "      <th>ONo</th>\n",
              "      <th>OPos</th>\n",
              "      <th>Description</th>\n",
              "      <th>OpNo</th>\n",
              "      <th>NextStepNo</th>\n",
              "      <th>...</th>\n",
              "      <th>PlanedEnd</th>\n",
              "      <th>Start</th>\n",
              "      <th>End</th>\n",
              "      <th>Real_Time difference</th>\n",
              "      <th>ResourceID</th>\n",
              "      <th>Temperature</th>\n",
              "      <th>Temperature_Time</th>\n",
              "      <th>Drilling_Count</th>\n",
              "      <th>Fuse</th>\n",
              "      <th>ResourceID_For_StepNo</th>\n",
              "    </tr>\n",
              "  </thead>\n",
              "  <tbody>\n",
              "  </tbody>\n",
              "</table>\n",
              "<p>0 rows × 24 columns</p>\n",
              "</div>\n",
              "      <button class=\"colab-df-convert\" onclick=\"convertToInteractive('df-91c76a26-0c4b-4bff-a35f-9053d6762407')\"\n",
              "              title=\"Convert this dataframe to an interactive table.\"\n",
              "              style=\"display:none;\">\n",
              "        \n",
              "  <svg xmlns=\"http://www.w3.org/2000/svg\" height=\"24px\"viewBox=\"0 0 24 24\"\n",
              "       width=\"24px\">\n",
              "    <path d=\"M0 0h24v24H0V0z\" fill=\"none\"/>\n",
              "    <path d=\"M18.56 5.44l.94 2.06.94-2.06 2.06-.94-2.06-.94-.94-2.06-.94 2.06-2.06.94zm-11 1L8.5 8.5l.94-2.06 2.06-.94-2.06-.94L8.5 2.5l-.94 2.06-2.06.94zm10 10l.94 2.06.94-2.06 2.06-.94-2.06-.94-.94-2.06-.94 2.06-2.06.94z\"/><path d=\"M17.41 7.96l-1.37-1.37c-.4-.4-.92-.59-1.43-.59-.52 0-1.04.2-1.43.59L10.3 9.45l-7.72 7.72c-.78.78-.78 2.05 0 2.83L4 21.41c.39.39.9.59 1.41.59.51 0 1.02-.2 1.41-.59l7.78-7.78 2.81-2.81c.8-.78.8-2.07 0-2.86zM5.41 20L4 18.59l7.72-7.72 1.47 1.35L5.41 20z\"/>\n",
              "  </svg>\n",
              "      </button>\n",
              "      \n",
              "  <style>\n",
              "    .colab-df-container {\n",
              "      display:flex;\n",
              "      flex-wrap:wrap;\n",
              "      gap: 12px;\n",
              "    }\n",
              "\n",
              "    .colab-df-convert {\n",
              "      background-color: #E8F0FE;\n",
              "      border: none;\n",
              "      border-radius: 50%;\n",
              "      cursor: pointer;\n",
              "      display: none;\n",
              "      fill: #1967D2;\n",
              "      height: 32px;\n",
              "      padding: 0 0 0 0;\n",
              "      width: 32px;\n",
              "    }\n",
              "\n",
              "    .colab-df-convert:hover {\n",
              "      background-color: #E2EBFA;\n",
              "      box-shadow: 0px 1px 2px rgba(60, 64, 67, 0.3), 0px 1px 3px 1px rgba(60, 64, 67, 0.15);\n",
              "      fill: #174EA6;\n",
              "    }\n",
              "\n",
              "    [theme=dark] .colab-df-convert {\n",
              "      background-color: #3B4455;\n",
              "      fill: #D2E3FC;\n",
              "    }\n",
              "\n",
              "    [theme=dark] .colab-df-convert:hover {\n",
              "      background-color: #434B5C;\n",
              "      box-shadow: 0px 1px 3px 1px rgba(0, 0, 0, 0.15);\n",
              "      filter: drop-shadow(0px 1px 2px rgba(0, 0, 0, 0.3));\n",
              "      fill: #FFFFFF;\n",
              "    }\n",
              "  </style>\n",
              "\n",
              "      <script>\n",
              "        const buttonEl =\n",
              "          document.querySelector('#df-91c76a26-0c4b-4bff-a35f-9053d6762407 button.colab-df-convert');\n",
              "        buttonEl.style.display =\n",
              "          google.colab.kernel.accessAllowed ? 'block' : 'none';\n",
              "\n",
              "        async function convertToInteractive(key) {\n",
              "          const element = document.querySelector('#df-91c76a26-0c4b-4bff-a35f-9053d6762407');\n",
              "          const dataTable =\n",
              "            await google.colab.kernel.invokeFunction('convertToInteractive',\n",
              "                                                     [key], {});\n",
              "          if (!dataTable) return;\n",
              "\n",
              "          const docLinkHtml = 'Like what you see? Visit the ' +\n",
              "            '<a target=\"_blank\" href=https://colab.research.google.com/notebooks/data_table.ipynb>data table notebook</a>'\n",
              "            + ' to learn more about interactive tables.';\n",
              "          element.innerHTML = '';\n",
              "          dataTable['output_type'] = 'display_data';\n",
              "          await google.colab.output.renderOutput(dataTable, element);\n",
              "          const docLink = document.createElement('div');\n",
              "          docLink.innerHTML = docLinkHtml;\n",
              "          element.appendChild(docLink);\n",
              "        }\n",
              "      </script>\n",
              "    </div>\n",
              "  </div>\n",
              "  "
            ]
          },
          "metadata": {},
          "execution_count": 14
        }
      ]
    },
    {
      "cell_type": "markdown",
      "source": [
        "- 부하시간 = Real_Time difference의 합\n",
        "- 설비고장 및 기종변경 등의 사유로 정지된 적은 없기 때문에 \"가동시간 = 부하시간\""
      ],
      "metadata": {
        "id": "AQrRv5XOQuCr"
      }
    },
    {
      "cell_type": "code",
      "source": [
        "df_oper_oee = df_oper.groupby('ResourceID').sum()[['Real_Time difference']]\n",
        "df_oper_oee.columns = ['부하시간']\n",
        "\n",
        "df_oper_oee['가동시간'] = df_oper_oee['부하시간']\n",
        "df_oper_oee['시간 가동률'] = df_oper_oee['가동시간'] / df_oper_oee['부하시간']"
      ],
      "metadata": {
        "colab": {
          "base_uri": "https://localhost:8080/"
        },
        "id": "zZiEmgwYQb3v",
        "outputId": "fcdc17bd-2e94-45ba-e71d-fece3bbe9628"
      },
      "execution_count": null,
      "outputs": [
        {
          "output_type": "stream",
          "name": "stderr",
          "text": [
            "<ipython-input-15-2ad2b51dcb15>:1: FutureWarning:\n",
            "\n",
            "The default value of numeric_only in DataFrameGroupBy.sum is deprecated. In a future version, numeric_only will default to False. Either specify numeric_only or select only columns which should be valid for the function.\n",
            "\n"
          ]
        }
      ]
    },
    {
      "cell_type": "markdown",
      "source": [
        "### 성능 가동률\n",
        " - 성능 가동시간 / 가동시간\n",
        "  - 성능 가동시간 = 완성수 * 표준 C/T"
      ],
      "metadata": {
        "id": "0zCr1bjVSsk9"
      }
    },
    {
      "cell_type": "markdown",
      "source": [
        "- 표준 C/T는 Planed_Time difference로, 각 RunOrder별 다르기 때문에 Row별로 계산 후 Sum"
      ],
      "metadata": {
        "id": "ozyqPr_PTKxy"
      }
    },
    {
      "cell_type": "code",
      "source": [
        "df_oper['Planed_Time difference'] = (df_oper['PlanedEnd']-df_oper['PlanedStart']).dt.seconds\n",
        "\n",
        "df_oper['성능 가동률'] = df_oper['Planed_Time difference'] / df_oper['Real_Time difference']\n",
        "\n",
        "df_oper = df_oper.replace([np.inf, -np.inf], np.nan)\n",
        "df_oper_oee['성능 가동률'] = df_oper.dropna(axis=0).groupby('ResourceID').mean()[['성능 가동률']]"
      ],
      "metadata": {
        "colab": {
          "base_uri": "https://localhost:8080/"
        },
        "id": "7NApjPDiS4OP",
        "outputId": "5fa5d273-336b-452b-93b0-dc4e1b1e3054"
      },
      "execution_count": null,
      "outputs": [
        {
          "output_type": "stream",
          "name": "stderr",
          "text": [
            "<ipython-input-16-4c57ecb0f20d>:6: FutureWarning:\n",
            "\n",
            "The default value of numeric_only in DataFrameGroupBy.mean is deprecated. In a future version, numeric_only will default to False. Either specify numeric_only or select only columns which should be valid for the function.\n",
            "\n"
          ]
        }
      ]
    },
    {
      "cell_type": "markdown",
      "source": [
        "### 양품률\n",
        " - 양품수 / 완성수\n",
        "  - 양품수 = 완성수 - 불량수"
      ],
      "metadata": {
        "id": "TeUylLqIVKIv"
      }
    },
    {
      "cell_type": "markdown",
      "source": [
        "- 마찬가지로 불량품이 없기 때문에 전체 개수를 기준으로 한다"
      ],
      "metadata": {
        "id": "XMFH4oz8VT4L"
      }
    },
    {
      "cell_type": "code",
      "source": [
        "df_oper_oee['완성수'] = df_oper.groupby('ResourceID').count()[['RunOrder']]\n",
        "df_oper_oee['양품률'] = df_oper_oee['완성수'] / df_oper_oee['완성수']"
      ],
      "metadata": {
        "id": "l8rXoglHSuWb"
      },
      "execution_count": null,
      "outputs": []
    },
    {
      "cell_type": "markdown",
      "source": [
        "### (최종) 설비종합효율"
      ],
      "metadata": {
        "id": "Y4g58m5KW2s5"
      }
    },
    {
      "cell_type": "code",
      "source": [
        "df_oper_oee['설비종합효율'] = round(df_oper_oee['시간 가동률'] * df_oper_oee['성능 가동률'] * df_oper_oee['양품률'] * 100, 2)\n",
        "df_oper_oee = df_oper_oee[['시간 가동률', '성능 가동률', '양품률', '설비종합효율']]\n",
        "df_oper_oee"
      ],
      "metadata": {
        "colab": {
          "base_uri": "https://localhost:8080/",
          "height": 331
        },
        "id": "pnQLtRPPV4ib",
        "outputId": "6071fc9c-34c7-4796-dcc0-e605f35f8b32"
      },
      "execution_count": null,
      "outputs": [
        {
          "output_type": "execute_result",
          "data": {
            "text/plain": [
              "            시간 가동률    성능 가동률  양품률  설비종합효율\n",
              "ResourceID                               \n",
              "1              1.0  1.023263  1.0  102.33\n",
              "2              1.0  0.953255  1.0   95.33\n",
              "3              1.0  2.061905  1.0  206.19\n",
              "4              1.0  0.643806  1.0   64.38\n",
              "5              1.0  2.000000  1.0  200.00\n",
              "6              1.0  1.936508  1.0  193.65\n",
              "7              1.0  0.897246  1.0   89.72\n",
              "8              1.0  0.769768  1.0   76.98"
            ],
            "text/html": [
              "\n",
              "  <div id=\"df-ab9b52f4-6b87-4d24-b3cd-a8401f1964eb\">\n",
              "    <div class=\"colab-df-container\">\n",
              "      <div>\n",
              "<style scoped>\n",
              "    .dataframe tbody tr th:only-of-type {\n",
              "        vertical-align: middle;\n",
              "    }\n",
              "\n",
              "    .dataframe tbody tr th {\n",
              "        vertical-align: top;\n",
              "    }\n",
              "\n",
              "    .dataframe thead th {\n",
              "        text-align: right;\n",
              "    }\n",
              "</style>\n",
              "<table border=\"1\" class=\"dataframe\">\n",
              "  <thead>\n",
              "    <tr style=\"text-align: right;\">\n",
              "      <th></th>\n",
              "      <th>시간 가동률</th>\n",
              "      <th>성능 가동률</th>\n",
              "      <th>양품률</th>\n",
              "      <th>설비종합효율</th>\n",
              "    </tr>\n",
              "    <tr>\n",
              "      <th>ResourceID</th>\n",
              "      <th></th>\n",
              "      <th></th>\n",
              "      <th></th>\n",
              "      <th></th>\n",
              "    </tr>\n",
              "  </thead>\n",
              "  <tbody>\n",
              "    <tr>\n",
              "      <th>1</th>\n",
              "      <td>1.0</td>\n",
              "      <td>1.023263</td>\n",
              "      <td>1.0</td>\n",
              "      <td>102.33</td>\n",
              "    </tr>\n",
              "    <tr>\n",
              "      <th>2</th>\n",
              "      <td>1.0</td>\n",
              "      <td>0.953255</td>\n",
              "      <td>1.0</td>\n",
              "      <td>95.33</td>\n",
              "    </tr>\n",
              "    <tr>\n",
              "      <th>3</th>\n",
              "      <td>1.0</td>\n",
              "      <td>2.061905</td>\n",
              "      <td>1.0</td>\n",
              "      <td>206.19</td>\n",
              "    </tr>\n",
              "    <tr>\n",
              "      <th>4</th>\n",
              "      <td>1.0</td>\n",
              "      <td>0.643806</td>\n",
              "      <td>1.0</td>\n",
              "      <td>64.38</td>\n",
              "    </tr>\n",
              "    <tr>\n",
              "      <th>5</th>\n",
              "      <td>1.0</td>\n",
              "      <td>2.000000</td>\n",
              "      <td>1.0</td>\n",
              "      <td>200.00</td>\n",
              "    </tr>\n",
              "    <tr>\n",
              "      <th>6</th>\n",
              "      <td>1.0</td>\n",
              "      <td>1.936508</td>\n",
              "      <td>1.0</td>\n",
              "      <td>193.65</td>\n",
              "    </tr>\n",
              "    <tr>\n",
              "      <th>7</th>\n",
              "      <td>1.0</td>\n",
              "      <td>0.897246</td>\n",
              "      <td>1.0</td>\n",
              "      <td>89.72</td>\n",
              "    </tr>\n",
              "    <tr>\n",
              "      <th>8</th>\n",
              "      <td>1.0</td>\n",
              "      <td>0.769768</td>\n",
              "      <td>1.0</td>\n",
              "      <td>76.98</td>\n",
              "    </tr>\n",
              "  </tbody>\n",
              "</table>\n",
              "</div>\n",
              "      <button class=\"colab-df-convert\" onclick=\"convertToInteractive('df-ab9b52f4-6b87-4d24-b3cd-a8401f1964eb')\"\n",
              "              title=\"Convert this dataframe to an interactive table.\"\n",
              "              style=\"display:none;\">\n",
              "        \n",
              "  <svg xmlns=\"http://www.w3.org/2000/svg\" height=\"24px\"viewBox=\"0 0 24 24\"\n",
              "       width=\"24px\">\n",
              "    <path d=\"M0 0h24v24H0V0z\" fill=\"none\"/>\n",
              "    <path d=\"M18.56 5.44l.94 2.06.94-2.06 2.06-.94-2.06-.94-.94-2.06-.94 2.06-2.06.94zm-11 1L8.5 8.5l.94-2.06 2.06-.94-2.06-.94L8.5 2.5l-.94 2.06-2.06.94zm10 10l.94 2.06.94-2.06 2.06-.94-2.06-.94-.94-2.06-.94 2.06-2.06.94z\"/><path d=\"M17.41 7.96l-1.37-1.37c-.4-.4-.92-.59-1.43-.59-.52 0-1.04.2-1.43.59L10.3 9.45l-7.72 7.72c-.78.78-.78 2.05 0 2.83L4 21.41c.39.39.9.59 1.41.59.51 0 1.02-.2 1.41-.59l7.78-7.78 2.81-2.81c.8-.78.8-2.07 0-2.86zM5.41 20L4 18.59l7.72-7.72 1.47 1.35L5.41 20z\"/>\n",
              "  </svg>\n",
              "      </button>\n",
              "      \n",
              "  <style>\n",
              "    .colab-df-container {\n",
              "      display:flex;\n",
              "      flex-wrap:wrap;\n",
              "      gap: 12px;\n",
              "    }\n",
              "\n",
              "    .colab-df-convert {\n",
              "      background-color: #E8F0FE;\n",
              "      border: none;\n",
              "      border-radius: 50%;\n",
              "      cursor: pointer;\n",
              "      display: none;\n",
              "      fill: #1967D2;\n",
              "      height: 32px;\n",
              "      padding: 0 0 0 0;\n",
              "      width: 32px;\n",
              "    }\n",
              "\n",
              "    .colab-df-convert:hover {\n",
              "      background-color: #E2EBFA;\n",
              "      box-shadow: 0px 1px 2px rgba(60, 64, 67, 0.3), 0px 1px 3px 1px rgba(60, 64, 67, 0.15);\n",
              "      fill: #174EA6;\n",
              "    }\n",
              "\n",
              "    [theme=dark] .colab-df-convert {\n",
              "      background-color: #3B4455;\n",
              "      fill: #D2E3FC;\n",
              "    }\n",
              "\n",
              "    [theme=dark] .colab-df-convert:hover {\n",
              "      background-color: #434B5C;\n",
              "      box-shadow: 0px 1px 3px 1px rgba(0, 0, 0, 0.15);\n",
              "      filter: drop-shadow(0px 1px 2px rgba(0, 0, 0, 0.3));\n",
              "      fill: #FFFFFF;\n",
              "    }\n",
              "  </style>\n",
              "\n",
              "      <script>\n",
              "        const buttonEl =\n",
              "          document.querySelector('#df-ab9b52f4-6b87-4d24-b3cd-a8401f1964eb button.colab-df-convert');\n",
              "        buttonEl.style.display =\n",
              "          google.colab.kernel.accessAllowed ? 'block' : 'none';\n",
              "\n",
              "        async function convertToInteractive(key) {\n",
              "          const element = document.querySelector('#df-ab9b52f4-6b87-4d24-b3cd-a8401f1964eb');\n",
              "          const dataTable =\n",
              "            await google.colab.kernel.invokeFunction('convertToInteractive',\n",
              "                                                     [key], {});\n",
              "          if (!dataTable) return;\n",
              "\n",
              "          const docLinkHtml = 'Like what you see? Visit the ' +\n",
              "            '<a target=\"_blank\" href=https://colab.research.google.com/notebooks/data_table.ipynb>data table notebook</a>'\n",
              "            + ' to learn more about interactive tables.';\n",
              "          element.innerHTML = '';\n",
              "          dataTable['output_type'] = 'display_data';\n",
              "          await google.colab.output.renderOutput(dataTable, element);\n",
              "          const docLink = document.createElement('div');\n",
              "          docLink.innerHTML = docLinkHtml;\n",
              "          element.appendChild(docLink);\n",
              "        }\n",
              "      </script>\n",
              "    </div>\n",
              "  </div>\n",
              "  "
            ]
          },
          "metadata": {},
          "execution_count": 18
        }
      ]
    },
    {
      "cell_type": "markdown",
      "source": [
        "# 예측적 분석(predictive analytics)"
      ],
      "metadata": {
        "id": "f_BmK8b5W6H-"
      }
    },
    {
      "cell_type": "markdown",
      "source": [
        "## Energy 계산"
      ],
      "metadata": {
        "id": "UHxw-Kgiggf0"
      }
    },
    {
      "cell_type": "code",
      "source": [
        "def get_energy(data) : \n",
        "    con1 = (data['RunOrder'] == df_power['RunOrder'])\n",
        "    con2 = (data['ResourceID'] == df_power['resourceID'])\n",
        "    con3 = (df_power['timeStamp'] >= data['Start'])\n",
        "    con4 = (df_power['timeStamp'] <= data['End'])\n",
        "\n",
        "    df_power_tmp = df_power[con1 & con2 & con3 & con4]\n",
        "    df_power_tmp['activePower'] = abs(df_power_tmp['activePower'])*0.001\n",
        "\n",
        "    return df_power_tmp.sum()['activePower']"
      ],
      "metadata": {
        "id": "ZbopPG-kYYdI"
      },
      "execution_count": null,
      "outputs": []
    },
    {
      "cell_type": "code",
      "source": [
        "# 깔끔한 데이터로 다시 Load\n",
        "main = pd.read_excel('./Project_Dataset.xlsx', sheet_name='OperationData')\n",
        "main['Energy'] = main.apply(get_energy, axis=1)"
      ],
      "metadata": {
        "colab": {
          "base_uri": "https://localhost:8080/"
        },
        "id": "wurkG-i2a0Hf",
        "outputId": "65542ec0-66f7-4f04-a123-12c0fca69139"
      },
      "execution_count": null,
      "outputs": [
        {
          "output_type": "stream",
          "name": "stderr",
          "text": [
            "<ipython-input-5-e45125cce959>:10: FutureWarning: The default value of numeric_only in DataFrame.sum is deprecated. In a future version, it will default to False. In addition, specifying 'numeric_only=None' is deprecated. Select only valid columns or specify the value of numeric_only to silence this warning.\n",
            "  return df_power_tmp.sum()['activePower']\n",
            "<ipython-input-5-e45125cce959>:10: FutureWarning: The default value of numeric_only in DataFrame.sum is deprecated. In a future version, it will default to False. In addition, specifying 'numeric_only=None' is deprecated. Select only valid columns or specify the value of numeric_only to silence this warning.\n",
            "  return df_power_tmp.sum()['activePower']\n",
            "<ipython-input-5-e45125cce959>:10: FutureWarning: The default value of numeric_only in DataFrame.sum is deprecated. In a future version, it will default to False. In addition, specifying 'numeric_only=None' is deprecated. Select only valid columns or specify the value of numeric_only to silence this warning.\n",
            "  return df_power_tmp.sum()['activePower']\n",
            "<ipython-input-5-e45125cce959>:10: FutureWarning: The default value of numeric_only in DataFrame.sum is deprecated. In a future version, it will default to False. In addition, specifying 'numeric_only=None' is deprecated. Select only valid columns or specify the value of numeric_only to silence this warning.\n",
            "  return df_power_tmp.sum()['activePower']\n",
            "<ipython-input-5-e45125cce959>:10: FutureWarning: The default value of numeric_only in DataFrame.sum is deprecated. In a future version, it will default to False. In addition, specifying 'numeric_only=None' is deprecated. Select only valid columns or specify the value of numeric_only to silence this warning.\n",
            "  return df_power_tmp.sum()['activePower']\n",
            "<ipython-input-5-e45125cce959>:10: FutureWarning: The default value of numeric_only in DataFrame.sum is deprecated. In a future version, it will default to False. In addition, specifying 'numeric_only=None' is deprecated. Select only valid columns or specify the value of numeric_only to silence this warning.\n",
            "  return df_power_tmp.sum()['activePower']\n",
            "<ipython-input-5-e45125cce959>:10: FutureWarning: The default value of numeric_only in DataFrame.sum is deprecated. In a future version, it will default to False. In addition, specifying 'numeric_only=None' is deprecated. Select only valid columns or specify the value of numeric_only to silence this warning.\n",
            "  return df_power_tmp.sum()['activePower']\n",
            "<ipython-input-5-e45125cce959>:10: FutureWarning: The default value of numeric_only in DataFrame.sum is deprecated. In a future version, it will default to False. In addition, specifying 'numeric_only=None' is deprecated. Select only valid columns or specify the value of numeric_only to silence this warning.\n",
            "  return df_power_tmp.sum()['activePower']\n",
            "<ipython-input-5-e45125cce959>:10: FutureWarning: The default value of numeric_only in DataFrame.sum is deprecated. In a future version, it will default to False. In addition, specifying 'numeric_only=None' is deprecated. Select only valid columns or specify the value of numeric_only to silence this warning.\n",
            "  return df_power_tmp.sum()['activePower']\n",
            "<ipython-input-5-e45125cce959>:10: FutureWarning: The default value of numeric_only in DataFrame.sum is deprecated. In a future version, it will default to False. In addition, specifying 'numeric_only=None' is deprecated. Select only valid columns or specify the value of numeric_only to silence this warning.\n",
            "  return df_power_tmp.sum()['activePower']\n",
            "<ipython-input-5-e45125cce959>:10: FutureWarning: The default value of numeric_only in DataFrame.sum is deprecated. In a future version, it will default to False. In addition, specifying 'numeric_only=None' is deprecated. Select only valid columns or specify the value of numeric_only to silence this warning.\n",
            "  return df_power_tmp.sum()['activePower']\n",
            "<ipython-input-5-e45125cce959>:10: FutureWarning: The default value of numeric_only in DataFrame.sum is deprecated. In a future version, it will default to False. In addition, specifying 'numeric_only=None' is deprecated. Select only valid columns or specify the value of numeric_only to silence this warning.\n",
            "  return df_power_tmp.sum()['activePower']\n",
            "<ipython-input-5-e45125cce959>:10: FutureWarning: The default value of numeric_only in DataFrame.sum is deprecated. In a future version, it will default to False. In addition, specifying 'numeric_only=None' is deprecated. Select only valid columns or specify the value of numeric_only to silence this warning.\n",
            "  return df_power_tmp.sum()['activePower']\n",
            "<ipython-input-5-e45125cce959>:10: FutureWarning: The default value of numeric_only in DataFrame.sum is deprecated. In a future version, it will default to False. In addition, specifying 'numeric_only=None' is deprecated. Select only valid columns or specify the value of numeric_only to silence this warning.\n",
            "  return df_power_tmp.sum()['activePower']\n",
            "<ipython-input-5-e45125cce959>:10: FutureWarning: The default value of numeric_only in DataFrame.sum is deprecated. In a future version, it will default to False. In addition, specifying 'numeric_only=None' is deprecated. Select only valid columns or specify the value of numeric_only to silence this warning.\n",
            "  return df_power_tmp.sum()['activePower']\n",
            "<ipython-input-5-e45125cce959>:10: FutureWarning: The default value of numeric_only in DataFrame.sum is deprecated. In a future version, it will default to False. In addition, specifying 'numeric_only=None' is deprecated. Select only valid columns or specify the value of numeric_only to silence this warning.\n",
            "  return df_power_tmp.sum()['activePower']\n",
            "<ipython-input-5-e45125cce959>:10: FutureWarning: The default value of numeric_only in DataFrame.sum is deprecated. In a future version, it will default to False. In addition, specifying 'numeric_only=None' is deprecated. Select only valid columns or specify the value of numeric_only to silence this warning.\n",
            "  return df_power_tmp.sum()['activePower']\n",
            "<ipython-input-5-e45125cce959>:10: FutureWarning: The default value of numeric_only in DataFrame.sum is deprecated. In a future version, it will default to False. In addition, specifying 'numeric_only=None' is deprecated. Select only valid columns or specify the value of numeric_only to silence this warning.\n",
            "  return df_power_tmp.sum()['activePower']\n",
            "<ipython-input-5-e45125cce959>:10: FutureWarning: The default value of numeric_only in DataFrame.sum is deprecated. In a future version, it will default to False. In addition, specifying 'numeric_only=None' is deprecated. Select only valid columns or specify the value of numeric_only to silence this warning.\n",
            "  return df_power_tmp.sum()['activePower']\n",
            "<ipython-input-5-e45125cce959>:10: FutureWarning: The default value of numeric_only in DataFrame.sum is deprecated. In a future version, it will default to False. In addition, specifying 'numeric_only=None' is deprecated. Select only valid columns or specify the value of numeric_only to silence this warning.\n",
            "  return df_power_tmp.sum()['activePower']\n",
            "<ipython-input-5-e45125cce959>:10: FutureWarning: The default value of numeric_only in DataFrame.sum is deprecated. In a future version, it will default to False. In addition, specifying 'numeric_only=None' is deprecated. Select only valid columns or specify the value of numeric_only to silence this warning.\n",
            "  return df_power_tmp.sum()['activePower']\n",
            "<ipython-input-5-e45125cce959>:10: FutureWarning: The default value of numeric_only in DataFrame.sum is deprecated. In a future version, it will default to False. In addition, specifying 'numeric_only=None' is deprecated. Select only valid columns or specify the value of numeric_only to silence this warning.\n",
            "  return df_power_tmp.sum()['activePower']\n",
            "<ipython-input-5-e45125cce959>:10: FutureWarning: The default value of numeric_only in DataFrame.sum is deprecated. In a future version, it will default to False. In addition, specifying 'numeric_only=None' is deprecated. Select only valid columns or specify the value of numeric_only to silence this warning.\n",
            "  return df_power_tmp.sum()['activePower']\n",
            "<ipython-input-5-e45125cce959>:10: FutureWarning: The default value of numeric_only in DataFrame.sum is deprecated. In a future version, it will default to False. In addition, specifying 'numeric_only=None' is deprecated. Select only valid columns or specify the value of numeric_only to silence this warning.\n",
            "  return df_power_tmp.sum()['activePower']\n",
            "<ipython-input-5-e45125cce959>:10: FutureWarning: The default value of numeric_only in DataFrame.sum is deprecated. In a future version, it will default to False. In addition, specifying 'numeric_only=None' is deprecated. Select only valid columns or specify the value of numeric_only to silence this warning.\n",
            "  return df_power_tmp.sum()['activePower']\n",
            "<ipython-input-5-e45125cce959>:10: FutureWarning: The default value of numeric_only in DataFrame.sum is deprecated. In a future version, it will default to False. In addition, specifying 'numeric_only=None' is deprecated. Select only valid columns or specify the value of numeric_only to silence this warning.\n",
            "  return df_power_tmp.sum()['activePower']\n",
            "<ipython-input-5-e45125cce959>:10: FutureWarning: The default value of numeric_only in DataFrame.sum is deprecated. In a future version, it will default to False. In addition, specifying 'numeric_only=None' is deprecated. Select only valid columns or specify the value of numeric_only to silence this warning.\n",
            "  return df_power_tmp.sum()['activePower']\n",
            "<ipython-input-5-e45125cce959>:10: FutureWarning: The default value of numeric_only in DataFrame.sum is deprecated. In a future version, it will default to False. In addition, specifying 'numeric_only=None' is deprecated. Select only valid columns or specify the value of numeric_only to silence this warning.\n",
            "  return df_power_tmp.sum()['activePower']\n",
            "<ipython-input-5-e45125cce959>:10: FutureWarning: The default value of numeric_only in DataFrame.sum is deprecated. In a future version, it will default to False. In addition, specifying 'numeric_only=None' is deprecated. Select only valid columns or specify the value of numeric_only to silence this warning.\n",
            "  return df_power_tmp.sum()['activePower']\n",
            "<ipython-input-5-e45125cce959>:10: FutureWarning: The default value of numeric_only in DataFrame.sum is deprecated. In a future version, it will default to False. In addition, specifying 'numeric_only=None' is deprecated. Select only valid columns or specify the value of numeric_only to silence this warning.\n",
            "  return df_power_tmp.sum()['activePower']\n",
            "<ipython-input-5-e45125cce959>:10: FutureWarning: The default value of numeric_only in DataFrame.sum is deprecated. In a future version, it will default to False. In addition, specifying 'numeric_only=None' is deprecated. Select only valid columns or specify the value of numeric_only to silence this warning.\n",
            "  return df_power_tmp.sum()['activePower']\n",
            "<ipython-input-5-e45125cce959>:10: FutureWarning: The default value of numeric_only in DataFrame.sum is deprecated. In a future version, it will default to False. In addition, specifying 'numeric_only=None' is deprecated. Select only valid columns or specify the value of numeric_only to silence this warning.\n",
            "  return df_power_tmp.sum()['activePower']\n",
            "<ipython-input-5-e45125cce959>:10: FutureWarning: The default value of numeric_only in DataFrame.sum is deprecated. In a future version, it will default to False. In addition, specifying 'numeric_only=None' is deprecated. Select only valid columns or specify the value of numeric_only to silence this warning.\n",
            "  return df_power_tmp.sum()['activePower']\n",
            "<ipython-input-5-e45125cce959>:10: FutureWarning: The default value of numeric_only in DataFrame.sum is deprecated. In a future version, it will default to False. In addition, specifying 'numeric_only=None' is deprecated. Select only valid columns or specify the value of numeric_only to silence this warning.\n",
            "  return df_power_tmp.sum()['activePower']\n",
            "<ipython-input-5-e45125cce959>:10: FutureWarning: The default value of numeric_only in DataFrame.sum is deprecated. In a future version, it will default to False. In addition, specifying 'numeric_only=None' is deprecated. Select only valid columns or specify the value of numeric_only to silence this warning.\n",
            "  return df_power_tmp.sum()['activePower']\n",
            "<ipython-input-5-e45125cce959>:10: FutureWarning: The default value of numeric_only in DataFrame.sum is deprecated. In a future version, it will default to False. In addition, specifying 'numeric_only=None' is deprecated. Select only valid columns or specify the value of numeric_only to silence this warning.\n",
            "  return df_power_tmp.sum()['activePower']\n",
            "<ipython-input-5-e45125cce959>:10: FutureWarning: The default value of numeric_only in DataFrame.sum is deprecated. In a future version, it will default to False. In addition, specifying 'numeric_only=None' is deprecated. Select only valid columns or specify the value of numeric_only to silence this warning.\n",
            "  return df_power_tmp.sum()['activePower']\n",
            "<ipython-input-5-e45125cce959>:10: FutureWarning: The default value of numeric_only in DataFrame.sum is deprecated. In a future version, it will default to False. In addition, specifying 'numeric_only=None' is deprecated. Select only valid columns or specify the value of numeric_only to silence this warning.\n",
            "  return df_power_tmp.sum()['activePower']\n",
            "<ipython-input-5-e45125cce959>:10: FutureWarning: The default value of numeric_only in DataFrame.sum is deprecated. In a future version, it will default to False. In addition, specifying 'numeric_only=None' is deprecated. Select only valid columns or specify the value of numeric_only to silence this warning.\n",
            "  return df_power_tmp.sum()['activePower']\n",
            "<ipython-input-5-e45125cce959>:10: FutureWarning: The default value of numeric_only in DataFrame.sum is deprecated. In a future version, it will default to False. In addition, specifying 'numeric_only=None' is deprecated. Select only valid columns or specify the value of numeric_only to silence this warning.\n",
            "  return df_power_tmp.sum()['activePower']\n",
            "<ipython-input-5-e45125cce959>:10: FutureWarning: The default value of numeric_only in DataFrame.sum is deprecated. In a future version, it will default to False. In addition, specifying 'numeric_only=None' is deprecated. Select only valid columns or specify the value of numeric_only to silence this warning.\n",
            "  return df_power_tmp.sum()['activePower']\n",
            "<ipython-input-5-e45125cce959>:10: FutureWarning: The default value of numeric_only in DataFrame.sum is deprecated. In a future version, it will default to False. In addition, specifying 'numeric_only=None' is deprecated. Select only valid columns or specify the value of numeric_only to silence this warning.\n",
            "  return df_power_tmp.sum()['activePower']\n",
            "<ipython-input-5-e45125cce959>:10: FutureWarning: The default value of numeric_only in DataFrame.sum is deprecated. In a future version, it will default to False. In addition, specifying 'numeric_only=None' is deprecated. Select only valid columns or specify the value of numeric_only to silence this warning.\n",
            "  return df_power_tmp.sum()['activePower']\n",
            "<ipython-input-5-e45125cce959>:10: FutureWarning: The default value of numeric_only in DataFrame.sum is deprecated. In a future version, it will default to False. In addition, specifying 'numeric_only=None' is deprecated. Select only valid columns or specify the value of numeric_only to silence this warning.\n",
            "  return df_power_tmp.sum()['activePower']\n",
            "<ipython-input-5-e45125cce959>:10: FutureWarning: The default value of numeric_only in DataFrame.sum is deprecated. In a future version, it will default to False. In addition, specifying 'numeric_only=None' is deprecated. Select only valid columns or specify the value of numeric_only to silence this warning.\n",
            "  return df_power_tmp.sum()['activePower']\n",
            "<ipython-input-5-e45125cce959>:10: FutureWarning: The default value of numeric_only in DataFrame.sum is deprecated. In a future version, it will default to False. In addition, specifying 'numeric_only=None' is deprecated. Select only valid columns or specify the value of numeric_only to silence this warning.\n",
            "  return df_power_tmp.sum()['activePower']\n",
            "<ipython-input-5-e45125cce959>:10: FutureWarning: The default value of numeric_only in DataFrame.sum is deprecated. In a future version, it will default to False. In addition, specifying 'numeric_only=None' is deprecated. Select only valid columns or specify the value of numeric_only to silence this warning.\n",
            "  return df_power_tmp.sum()['activePower']\n",
            "<ipython-input-5-e45125cce959>:10: FutureWarning: The default value of numeric_only in DataFrame.sum is deprecated. In a future version, it will default to False. In addition, specifying 'numeric_only=None' is deprecated. Select only valid columns or specify the value of numeric_only to silence this warning.\n",
            "  return df_power_tmp.sum()['activePower']\n",
            "<ipython-input-5-e45125cce959>:10: FutureWarning: The default value of numeric_only in DataFrame.sum is deprecated. In a future version, it will default to False. In addition, specifying 'numeric_only=None' is deprecated. Select only valid columns or specify the value of numeric_only to silence this warning.\n",
            "  return df_power_tmp.sum()['activePower']\n",
            "<ipython-input-5-e45125cce959>:10: FutureWarning: The default value of numeric_only in DataFrame.sum is deprecated. In a future version, it will default to False. In addition, specifying 'numeric_only=None' is deprecated. Select only valid columns or specify the value of numeric_only to silence this warning.\n",
            "  return df_power_tmp.sum()['activePower']\n",
            "<ipython-input-5-e45125cce959>:10: FutureWarning: The default value of numeric_only in DataFrame.sum is deprecated. In a future version, it will default to False. In addition, specifying 'numeric_only=None' is deprecated. Select only valid columns or specify the value of numeric_only to silence this warning.\n",
            "  return df_power_tmp.sum()['activePower']\n",
            "<ipython-input-5-e45125cce959>:10: FutureWarning: The default value of numeric_only in DataFrame.sum is deprecated. In a future version, it will default to False. In addition, specifying 'numeric_only=None' is deprecated. Select only valid columns or specify the value of numeric_only to silence this warning.\n",
            "  return df_power_tmp.sum()['activePower']\n",
            "<ipython-input-5-e45125cce959>:10: FutureWarning: The default value of numeric_only in DataFrame.sum is deprecated. In a future version, it will default to False. In addition, specifying 'numeric_only=None' is deprecated. Select only valid columns or specify the value of numeric_only to silence this warning.\n",
            "  return df_power_tmp.sum()['activePower']\n",
            "<ipython-input-5-e45125cce959>:10: FutureWarning: The default value of numeric_only in DataFrame.sum is deprecated. In a future version, it will default to False. In addition, specifying 'numeric_only=None' is deprecated. Select only valid columns or specify the value of numeric_only to silence this warning.\n",
            "  return df_power_tmp.sum()['activePower']\n",
            "<ipython-input-5-e45125cce959>:10: FutureWarning: The default value of numeric_only in DataFrame.sum is deprecated. In a future version, it will default to False. In addition, specifying 'numeric_only=None' is deprecated. Select only valid columns or specify the value of numeric_only to silence this warning.\n",
            "  return df_power_tmp.sum()['activePower']\n",
            "<ipython-input-5-e45125cce959>:10: FutureWarning: The default value of numeric_only in DataFrame.sum is deprecated. In a future version, it will default to False. In addition, specifying 'numeric_only=None' is deprecated. Select only valid columns or specify the value of numeric_only to silence this warning.\n",
            "  return df_power_tmp.sum()['activePower']\n",
            "<ipython-input-5-e45125cce959>:10: FutureWarning: The default value of numeric_only in DataFrame.sum is deprecated. In a future version, it will default to False. In addition, specifying 'numeric_only=None' is deprecated. Select only valid columns or specify the value of numeric_only to silence this warning.\n",
            "  return df_power_tmp.sum()['activePower']\n",
            "<ipython-input-5-e45125cce959>:10: FutureWarning: The default value of numeric_only in DataFrame.sum is deprecated. In a future version, it will default to False. In addition, specifying 'numeric_only=None' is deprecated. Select only valid columns or specify the value of numeric_only to silence this warning.\n",
            "  return df_power_tmp.sum()['activePower']\n",
            "<ipython-input-5-e45125cce959>:10: FutureWarning: The default value of numeric_only in DataFrame.sum is deprecated. In a future version, it will default to False. In addition, specifying 'numeric_only=None' is deprecated. Select only valid columns or specify the value of numeric_only to silence this warning.\n",
            "  return df_power_tmp.sum()['activePower']\n",
            "<ipython-input-5-e45125cce959>:10: FutureWarning: The default value of numeric_only in DataFrame.sum is deprecated. In a future version, it will default to False. In addition, specifying 'numeric_only=None' is deprecated. Select only valid columns or specify the value of numeric_only to silence this warning.\n",
            "  return df_power_tmp.sum()['activePower']\n",
            "<ipython-input-5-e45125cce959>:10: FutureWarning: The default value of numeric_only in DataFrame.sum is deprecated. In a future version, it will default to False. In addition, specifying 'numeric_only=None' is deprecated. Select only valid columns or specify the value of numeric_only to silence this warning.\n",
            "  return df_power_tmp.sum()['activePower']\n",
            "<ipython-input-5-e45125cce959>:10: FutureWarning: The default value of numeric_only in DataFrame.sum is deprecated. In a future version, it will default to False. In addition, specifying 'numeric_only=None' is deprecated. Select only valid columns or specify the value of numeric_only to silence this warning.\n",
            "  return df_power_tmp.sum()['activePower']\n",
            "<ipython-input-5-e45125cce959>:10: FutureWarning: The default value of numeric_only in DataFrame.sum is deprecated. In a future version, it will default to False. In addition, specifying 'numeric_only=None' is deprecated. Select only valid columns or specify the value of numeric_only to silence this warning.\n",
            "  return df_power_tmp.sum()['activePower']\n",
            "<ipython-input-5-e45125cce959>:10: FutureWarning: The default value of numeric_only in DataFrame.sum is deprecated. In a future version, it will default to False. In addition, specifying 'numeric_only=None' is deprecated. Select only valid columns or specify the value of numeric_only to silence this warning.\n",
            "  return df_power_tmp.sum()['activePower']\n",
            "<ipython-input-5-e45125cce959>:10: FutureWarning: The default value of numeric_only in DataFrame.sum is deprecated. In a future version, it will default to False. In addition, specifying 'numeric_only=None' is deprecated. Select only valid columns or specify the value of numeric_only to silence this warning.\n",
            "  return df_power_tmp.sum()['activePower']\n",
            "<ipython-input-5-e45125cce959>:10: FutureWarning: The default value of numeric_only in DataFrame.sum is deprecated. In a future version, it will default to False. In addition, specifying 'numeric_only=None' is deprecated. Select only valid columns or specify the value of numeric_only to silence this warning.\n",
            "  return df_power_tmp.sum()['activePower']\n",
            "<ipython-input-5-e45125cce959>:10: FutureWarning: The default value of numeric_only in DataFrame.sum is deprecated. In a future version, it will default to False. In addition, specifying 'numeric_only=None' is deprecated. Select only valid columns or specify the value of numeric_only to silence this warning.\n",
            "  return df_power_tmp.sum()['activePower']\n",
            "<ipython-input-5-e45125cce959>:10: FutureWarning: The default value of numeric_only in DataFrame.sum is deprecated. In a future version, it will default to False. In addition, specifying 'numeric_only=None' is deprecated. Select only valid columns or specify the value of numeric_only to silence this warning.\n",
            "  return df_power_tmp.sum()['activePower']\n",
            "<ipython-input-5-e45125cce959>:10: FutureWarning: The default value of numeric_only in DataFrame.sum is deprecated. In a future version, it will default to False. In addition, specifying 'numeric_only=None' is deprecated. Select only valid columns or specify the value of numeric_only to silence this warning.\n",
            "  return df_power_tmp.sum()['activePower']\n",
            "<ipython-input-5-e45125cce959>:10: FutureWarning: The default value of numeric_only in DataFrame.sum is deprecated. In a future version, it will default to False. In addition, specifying 'numeric_only=None' is deprecated. Select only valid columns or specify the value of numeric_only to silence this warning.\n",
            "  return df_power_tmp.sum()['activePower']\n",
            "<ipython-input-5-e45125cce959>:10: FutureWarning: The default value of numeric_only in DataFrame.sum is deprecated. In a future version, it will default to False. In addition, specifying 'numeric_only=None' is deprecated. Select only valid columns or specify the value of numeric_only to silence this warning.\n",
            "  return df_power_tmp.sum()['activePower']\n",
            "<ipython-input-5-e45125cce959>:10: FutureWarning: The default value of numeric_only in DataFrame.sum is deprecated. In a future version, it will default to False. In addition, specifying 'numeric_only=None' is deprecated. Select only valid columns or specify the value of numeric_only to silence this warning.\n",
            "  return df_power_tmp.sum()['activePower']\n",
            "<ipython-input-5-e45125cce959>:10: FutureWarning: The default value of numeric_only in DataFrame.sum is deprecated. In a future version, it will default to False. In addition, specifying 'numeric_only=None' is deprecated. Select only valid columns or specify the value of numeric_only to silence this warning.\n",
            "  return df_power_tmp.sum()['activePower']\n",
            "<ipython-input-5-e45125cce959>:10: FutureWarning: The default value of numeric_only in DataFrame.sum is deprecated. In a future version, it will default to False. In addition, specifying 'numeric_only=None' is deprecated. Select only valid columns or specify the value of numeric_only to silence this warning.\n",
            "  return df_power_tmp.sum()['activePower']\n",
            "<ipython-input-5-e45125cce959>:10: FutureWarning: The default value of numeric_only in DataFrame.sum is deprecated. In a future version, it will default to False. In addition, specifying 'numeric_only=None' is deprecated. Select only valid columns or specify the value of numeric_only to silence this warning.\n",
            "  return df_power_tmp.sum()['activePower']\n",
            "<ipython-input-5-e45125cce959>:10: FutureWarning: The default value of numeric_only in DataFrame.sum is deprecated. In a future version, it will default to False. In addition, specifying 'numeric_only=None' is deprecated. Select only valid columns or specify the value of numeric_only to silence this warning.\n",
            "  return df_power_tmp.sum()['activePower']\n",
            "<ipython-input-5-e45125cce959>:10: FutureWarning: The default value of numeric_only in DataFrame.sum is deprecated. In a future version, it will default to False. In addition, specifying 'numeric_only=None' is deprecated. Select only valid columns or specify the value of numeric_only to silence this warning.\n",
            "  return df_power_tmp.sum()['activePower']\n",
            "<ipython-input-5-e45125cce959>:10: FutureWarning: The default value of numeric_only in DataFrame.sum is deprecated. In a future version, it will default to False. In addition, specifying 'numeric_only=None' is deprecated. Select only valid columns or specify the value of numeric_only to silence this warning.\n",
            "  return df_power_tmp.sum()['activePower']\n",
            "<ipython-input-5-e45125cce959>:10: FutureWarning: The default value of numeric_only in DataFrame.sum is deprecated. In a future version, it will default to False. In addition, specifying 'numeric_only=None' is deprecated. Select only valid columns or specify the value of numeric_only to silence this warning.\n",
            "  return df_power_tmp.sum()['activePower']\n",
            "<ipython-input-5-e45125cce959>:10: FutureWarning: The default value of numeric_only in DataFrame.sum is deprecated. In a future version, it will default to False. In addition, specifying 'numeric_only=None' is deprecated. Select only valid columns or specify the value of numeric_only to silence this warning.\n",
            "  return df_power_tmp.sum()['activePower']\n",
            "<ipython-input-5-e45125cce959>:10: FutureWarning: The default value of numeric_only in DataFrame.sum is deprecated. In a future version, it will default to False. In addition, specifying 'numeric_only=None' is deprecated. Select only valid columns or specify the value of numeric_only to silence this warning.\n",
            "  return df_power_tmp.sum()['activePower']\n",
            "<ipython-input-5-e45125cce959>:10: FutureWarning: The default value of numeric_only in DataFrame.sum is deprecated. In a future version, it will default to False. In addition, specifying 'numeric_only=None' is deprecated. Select only valid columns or specify the value of numeric_only to silence this warning.\n",
            "  return df_power_tmp.sum()['activePower']\n",
            "<ipython-input-5-e45125cce959>:10: FutureWarning: The default value of numeric_only in DataFrame.sum is deprecated. In a future version, it will default to False. In addition, specifying 'numeric_only=None' is deprecated. Select only valid columns or specify the value of numeric_only to silence this warning.\n",
            "  return df_power_tmp.sum()['activePower']\n",
            "<ipython-input-5-e45125cce959>:10: FutureWarning: The default value of numeric_only in DataFrame.sum is deprecated. In a future version, it will default to False. In addition, specifying 'numeric_only=None' is deprecated. Select only valid columns or specify the value of numeric_only to silence this warning.\n",
            "  return df_power_tmp.sum()['activePower']\n",
            "<ipython-input-5-e45125cce959>:10: FutureWarning: The default value of numeric_only in DataFrame.sum is deprecated. In a future version, it will default to False. In addition, specifying 'numeric_only=None' is deprecated. Select only valid columns or specify the value of numeric_only to silence this warning.\n",
            "  return df_power_tmp.sum()['activePower']\n",
            "<ipython-input-5-e45125cce959>:10: FutureWarning: The default value of numeric_only in DataFrame.sum is deprecated. In a future version, it will default to False. In addition, specifying 'numeric_only=None' is deprecated. Select only valid columns or specify the value of numeric_only to silence this warning.\n",
            "  return df_power_tmp.sum()['activePower']\n",
            "<ipython-input-5-e45125cce959>:10: FutureWarning: The default value of numeric_only in DataFrame.sum is deprecated. In a future version, it will default to False. In addition, specifying 'numeric_only=None' is deprecated. Select only valid columns or specify the value of numeric_only to silence this warning.\n",
            "  return df_power_tmp.sum()['activePower']\n",
            "<ipython-input-5-e45125cce959>:10: FutureWarning: The default value of numeric_only in DataFrame.sum is deprecated. In a future version, it will default to False. In addition, specifying 'numeric_only=None' is deprecated. Select only valid columns or specify the value of numeric_only to silence this warning.\n",
            "  return df_power_tmp.sum()['activePower']\n",
            "<ipython-input-5-e45125cce959>:10: FutureWarning: The default value of numeric_only in DataFrame.sum is deprecated. In a future version, it will default to False. In addition, specifying 'numeric_only=None' is deprecated. Select only valid columns or specify the value of numeric_only to silence this warning.\n",
            "  return df_power_tmp.sum()['activePower']\n",
            "<ipython-input-5-e45125cce959>:10: FutureWarning: The default value of numeric_only in DataFrame.sum is deprecated. In a future version, it will default to False. In addition, specifying 'numeric_only=None' is deprecated. Select only valid columns or specify the value of numeric_only to silence this warning.\n",
            "  return df_power_tmp.sum()['activePower']\n",
            "<ipython-input-5-e45125cce959>:10: FutureWarning: The default value of numeric_only in DataFrame.sum is deprecated. In a future version, it will default to False. In addition, specifying 'numeric_only=None' is deprecated. Select only valid columns or specify the value of numeric_only to silence this warning.\n",
            "  return df_power_tmp.sum()['activePower']\n",
            "<ipython-input-5-e45125cce959>:10: FutureWarning: The default value of numeric_only in DataFrame.sum is deprecated. In a future version, it will default to False. In addition, specifying 'numeric_only=None' is deprecated. Select only valid columns or specify the value of numeric_only to silence this warning.\n",
            "  return df_power_tmp.sum()['activePower']\n",
            "<ipython-input-5-e45125cce959>:10: FutureWarning: The default value of numeric_only in DataFrame.sum is deprecated. In a future version, it will default to False. In addition, specifying 'numeric_only=None' is deprecated. Select only valid columns or specify the value of numeric_only to silence this warning.\n",
            "  return df_power_tmp.sum()['activePower']\n",
            "<ipython-input-5-e45125cce959>:10: FutureWarning: The default value of numeric_only in DataFrame.sum is deprecated. In a future version, it will default to False. In addition, specifying 'numeric_only=None' is deprecated. Select only valid columns or specify the value of numeric_only to silence this warning.\n",
            "  return df_power_tmp.sum()['activePower']\n",
            "<ipython-input-5-e45125cce959>:10: FutureWarning: The default value of numeric_only in DataFrame.sum is deprecated. In a future version, it will default to False. In addition, specifying 'numeric_only=None' is deprecated. Select only valid columns or specify the value of numeric_only to silence this warning.\n",
            "  return df_power_tmp.sum()['activePower']\n",
            "<ipython-input-5-e45125cce959>:10: FutureWarning: The default value of numeric_only in DataFrame.sum is deprecated. In a future version, it will default to False. In addition, specifying 'numeric_only=None' is deprecated. Select only valid columns or specify the value of numeric_only to silence this warning.\n",
            "  return df_power_tmp.sum()['activePower']\n",
            "<ipython-input-5-e45125cce959>:10: FutureWarning: The default value of numeric_only in DataFrame.sum is deprecated. In a future version, it will default to False. In addition, specifying 'numeric_only=None' is deprecated. Select only valid columns or specify the value of numeric_only to silence this warning.\n",
            "  return df_power_tmp.sum()['activePower']\n",
            "<ipython-input-5-e45125cce959>:10: FutureWarning: The default value of numeric_only in DataFrame.sum is deprecated. In a future version, it will default to False. In addition, specifying 'numeric_only=None' is deprecated. Select only valid columns or specify the value of numeric_only to silence this warning.\n",
            "  return df_power_tmp.sum()['activePower']\n",
            "<ipython-input-5-e45125cce959>:10: FutureWarning: The default value of numeric_only in DataFrame.sum is deprecated. In a future version, it will default to False. In addition, specifying 'numeric_only=None' is deprecated. Select only valid columns or specify the value of numeric_only to silence this warning.\n",
            "  return df_power_tmp.sum()['activePower']\n",
            "<ipython-input-5-e45125cce959>:10: FutureWarning: The default value of numeric_only in DataFrame.sum is deprecated. In a future version, it will default to False. In addition, specifying 'numeric_only=None' is deprecated. Select only valid columns or specify the value of numeric_only to silence this warning.\n",
            "  return df_power_tmp.sum()['activePower']\n",
            "<ipython-input-5-e45125cce959>:10: FutureWarning: The default value of numeric_only in DataFrame.sum is deprecated. In a future version, it will default to False. In addition, specifying 'numeric_only=None' is deprecated. Select only valid columns or specify the value of numeric_only to silence this warning.\n",
            "  return df_power_tmp.sum()['activePower']\n",
            "<ipython-input-5-e45125cce959>:10: FutureWarning: The default value of numeric_only in DataFrame.sum is deprecated. In a future version, it will default to False. In addition, specifying 'numeric_only=None' is deprecated. Select only valid columns or specify the value of numeric_only to silence this warning.\n",
            "  return df_power_tmp.sum()['activePower']\n",
            "<ipython-input-5-e45125cce959>:10: FutureWarning: The default value of numeric_only in DataFrame.sum is deprecated. In a future version, it will default to False. In addition, specifying 'numeric_only=None' is deprecated. Select only valid columns or specify the value of numeric_only to silence this warning.\n",
            "  return df_power_tmp.sum()['activePower']\n",
            "<ipython-input-5-e45125cce959>:10: FutureWarning: The default value of numeric_only in DataFrame.sum is deprecated. In a future version, it will default to False. In addition, specifying 'numeric_only=None' is deprecated. Select only valid columns or specify the value of numeric_only to silence this warning.\n",
            "  return df_power_tmp.sum()['activePower']\n",
            "<ipython-input-5-e45125cce959>:10: FutureWarning: The default value of numeric_only in DataFrame.sum is deprecated. In a future version, it will default to False. In addition, specifying 'numeric_only=None' is deprecated. Select only valid columns or specify the value of numeric_only to silence this warning.\n",
            "  return df_power_tmp.sum()['activePower']\n",
            "<ipython-input-5-e45125cce959>:10: FutureWarning: The default value of numeric_only in DataFrame.sum is deprecated. In a future version, it will default to False. In addition, specifying 'numeric_only=None' is deprecated. Select only valid columns or specify the value of numeric_only to silence this warning.\n",
            "  return df_power_tmp.sum()['activePower']\n",
            "<ipython-input-5-e45125cce959>:10: FutureWarning: The default value of numeric_only in DataFrame.sum is deprecated. In a future version, it will default to False. In addition, specifying 'numeric_only=None' is deprecated. Select only valid columns or specify the value of numeric_only to silence this warning.\n",
            "  return df_power_tmp.sum()['activePower']\n",
            "<ipython-input-5-e45125cce959>:10: FutureWarning: The default value of numeric_only in DataFrame.sum is deprecated. In a future version, it will default to False. In addition, specifying 'numeric_only=None' is deprecated. Select only valid columns or specify the value of numeric_only to silence this warning.\n",
            "  return df_power_tmp.sum()['activePower']\n",
            "<ipython-input-5-e45125cce959>:10: FutureWarning: The default value of numeric_only in DataFrame.sum is deprecated. In a future version, it will default to False. In addition, specifying 'numeric_only=None' is deprecated. Select only valid columns or specify the value of numeric_only to silence this warning.\n",
            "  return df_power_tmp.sum()['activePower']\n",
            "<ipython-input-5-e45125cce959>:10: FutureWarning: The default value of numeric_only in DataFrame.sum is deprecated. In a future version, it will default to False. In addition, specifying 'numeric_only=None' is deprecated. Select only valid columns or specify the value of numeric_only to silence this warning.\n",
            "  return df_power_tmp.sum()['activePower']\n",
            "<ipython-input-5-e45125cce959>:10: FutureWarning: The default value of numeric_only in DataFrame.sum is deprecated. In a future version, it will default to False. In addition, specifying 'numeric_only=None' is deprecated. Select only valid columns or specify the value of numeric_only to silence this warning.\n",
            "  return df_power_tmp.sum()['activePower']\n",
            "<ipython-input-5-e45125cce959>:10: FutureWarning: The default value of numeric_only in DataFrame.sum is deprecated. In a future version, it will default to False. In addition, specifying 'numeric_only=None' is deprecated. Select only valid columns or specify the value of numeric_only to silence this warning.\n",
            "  return df_power_tmp.sum()['activePower']\n",
            "<ipython-input-5-e45125cce959>:10: FutureWarning: The default value of numeric_only in DataFrame.sum is deprecated. In a future version, it will default to False. In addition, specifying 'numeric_only=None' is deprecated. Select only valid columns or specify the value of numeric_only to silence this warning.\n",
            "  return df_power_tmp.sum()['activePower']\n",
            "<ipython-input-5-e45125cce959>:10: FutureWarning: The default value of numeric_only in DataFrame.sum is deprecated. In a future version, it will default to False. In addition, specifying 'numeric_only=None' is deprecated. Select only valid columns or specify the value of numeric_only to silence this warning.\n",
            "  return df_power_tmp.sum()['activePower']\n",
            "<ipython-input-5-e45125cce959>:10: FutureWarning: The default value of numeric_only in DataFrame.sum is deprecated. In a future version, it will default to False. In addition, specifying 'numeric_only=None' is deprecated. Select only valid columns or specify the value of numeric_only to silence this warning.\n",
            "  return df_power_tmp.sum()['activePower']\n",
            "<ipython-input-5-e45125cce959>:10: FutureWarning: The default value of numeric_only in DataFrame.sum is deprecated. In a future version, it will default to False. In addition, specifying 'numeric_only=None' is deprecated. Select only valid columns or specify the value of numeric_only to silence this warning.\n",
            "  return df_power_tmp.sum()['activePower']\n",
            "<ipython-input-5-e45125cce959>:10: FutureWarning: The default value of numeric_only in DataFrame.sum is deprecated. In a future version, it will default to False. In addition, specifying 'numeric_only=None' is deprecated. Select only valid columns or specify the value of numeric_only to silence this warning.\n",
            "  return df_power_tmp.sum()['activePower']\n",
            "<ipython-input-5-e45125cce959>:10: FutureWarning: The default value of numeric_only in DataFrame.sum is deprecated. In a future version, it will default to False. In addition, specifying 'numeric_only=None' is deprecated. Select only valid columns or specify the value of numeric_only to silence this warning.\n",
            "  return df_power_tmp.sum()['activePower']\n",
            "<ipython-input-5-e45125cce959>:10: FutureWarning: The default value of numeric_only in DataFrame.sum is deprecated. In a future version, it will default to False. In addition, specifying 'numeric_only=None' is deprecated. Select only valid columns or specify the value of numeric_only to silence this warning.\n",
            "  return df_power_tmp.sum()['activePower']\n",
            "<ipython-input-5-e45125cce959>:10: FutureWarning: The default value of numeric_only in DataFrame.sum is deprecated. In a future version, it will default to False. In addition, specifying 'numeric_only=None' is deprecated. Select only valid columns or specify the value of numeric_only to silence this warning.\n",
            "  return df_power_tmp.sum()['activePower']\n",
            "<ipython-input-5-e45125cce959>:10: FutureWarning: The default value of numeric_only in DataFrame.sum is deprecated. In a future version, it will default to False. In addition, specifying 'numeric_only=None' is deprecated. Select only valid columns or specify the value of numeric_only to silence this warning.\n",
            "  return df_power_tmp.sum()['activePower']\n",
            "<ipython-input-5-e45125cce959>:10: FutureWarning: The default value of numeric_only in DataFrame.sum is deprecated. In a future version, it will default to False. In addition, specifying 'numeric_only=None' is deprecated. Select only valid columns or specify the value of numeric_only to silence this warning.\n",
            "  return df_power_tmp.sum()['activePower']\n",
            "<ipython-input-5-e45125cce959>:10: FutureWarning: The default value of numeric_only in DataFrame.sum is deprecated. In a future version, it will default to False. In addition, specifying 'numeric_only=None' is deprecated. Select only valid columns or specify the value of numeric_only to silence this warning.\n",
            "  return df_power_tmp.sum()['activePower']\n",
            "<ipython-input-5-e45125cce959>:10: FutureWarning: The default value of numeric_only in DataFrame.sum is deprecated. In a future version, it will default to False. In addition, specifying 'numeric_only=None' is deprecated. Select only valid columns or specify the value of numeric_only to silence this warning.\n",
            "  return df_power_tmp.sum()['activePower']\n",
            "<ipython-input-5-e45125cce959>:10: FutureWarning: The default value of numeric_only in DataFrame.sum is deprecated. In a future version, it will default to False. In addition, specifying 'numeric_only=None' is deprecated. Select only valid columns or specify the value of numeric_only to silence this warning.\n",
            "  return df_power_tmp.sum()['activePower']\n",
            "<ipython-input-5-e45125cce959>:10: FutureWarning: The default value of numeric_only in DataFrame.sum is deprecated. In a future version, it will default to False. In addition, specifying 'numeric_only=None' is deprecated. Select only valid columns or specify the value of numeric_only to silence this warning.\n",
            "  return df_power_tmp.sum()['activePower']\n",
            "<ipython-input-5-e45125cce959>:10: FutureWarning: The default value of numeric_only in DataFrame.sum is deprecated. In a future version, it will default to False. In addition, specifying 'numeric_only=None' is deprecated. Select only valid columns or specify the value of numeric_only to silence this warning.\n",
            "  return df_power_tmp.sum()['activePower']\n",
            "<ipython-input-5-e45125cce959>:10: FutureWarning: The default value of numeric_only in DataFrame.sum is deprecated. In a future version, it will default to False. In addition, specifying 'numeric_only=None' is deprecated. Select only valid columns or specify the value of numeric_only to silence this warning.\n",
            "  return df_power_tmp.sum()['activePower']\n",
            "<ipython-input-5-e45125cce959>:10: FutureWarning: The default value of numeric_only in DataFrame.sum is deprecated. In a future version, it will default to False. In addition, specifying 'numeric_only=None' is deprecated. Select only valid columns or specify the value of numeric_only to silence this warning.\n",
            "  return df_power_tmp.sum()['activePower']\n",
            "<ipython-input-5-e45125cce959>:10: FutureWarning: The default value of numeric_only in DataFrame.sum is deprecated. In a future version, it will default to False. In addition, specifying 'numeric_only=None' is deprecated. Select only valid columns or specify the value of numeric_only to silence this warning.\n",
            "  return df_power_tmp.sum()['activePower']\n",
            "<ipython-input-5-e45125cce959>:10: FutureWarning: The default value of numeric_only in DataFrame.sum is deprecated. In a future version, it will default to False. In addition, specifying 'numeric_only=None' is deprecated. Select only valid columns or specify the value of numeric_only to silence this warning.\n",
            "  return df_power_tmp.sum()['activePower']\n",
            "<ipython-input-5-e45125cce959>:10: FutureWarning: The default value of numeric_only in DataFrame.sum is deprecated. In a future version, it will default to False. In addition, specifying 'numeric_only=None' is deprecated. Select only valid columns or specify the value of numeric_only to silence this warning.\n",
            "  return df_power_tmp.sum()['activePower']\n",
            "<ipython-input-5-e45125cce959>:10: FutureWarning: The default value of numeric_only in DataFrame.sum is deprecated. In a future version, it will default to False. In addition, specifying 'numeric_only=None' is deprecated. Select only valid columns or specify the value of numeric_only to silence this warning.\n",
            "  return df_power_tmp.sum()['activePower']\n",
            "<ipython-input-5-e45125cce959>:10: FutureWarning: The default value of numeric_only in DataFrame.sum is deprecated. In a future version, it will default to False. In addition, specifying 'numeric_only=None' is deprecated. Select only valid columns or specify the value of numeric_only to silence this warning.\n",
            "  return df_power_tmp.sum()['activePower']\n",
            "<ipython-input-5-e45125cce959>:10: FutureWarning: The default value of numeric_only in DataFrame.sum is deprecated. In a future version, it will default to False. In addition, specifying 'numeric_only=None' is deprecated. Select only valid columns or specify the value of numeric_only to silence this warning.\n",
            "  return df_power_tmp.sum()['activePower']\n",
            "<ipython-input-5-e45125cce959>:10: FutureWarning: The default value of numeric_only in DataFrame.sum is deprecated. In a future version, it will default to False. In addition, specifying 'numeric_only=None' is deprecated. Select only valid columns or specify the value of numeric_only to silence this warning.\n",
            "  return df_power_tmp.sum()['activePower']\n",
            "<ipython-input-5-e45125cce959>:10: FutureWarning: The default value of numeric_only in DataFrame.sum is deprecated. In a future version, it will default to False. In addition, specifying 'numeric_only=None' is deprecated. Select only valid columns or specify the value of numeric_only to silence this warning.\n",
            "  return df_power_tmp.sum()['activePower']\n",
            "<ipython-input-5-e45125cce959>:10: FutureWarning: The default value of numeric_only in DataFrame.sum is deprecated. In a future version, it will default to False. In addition, specifying 'numeric_only=None' is deprecated. Select only valid columns or specify the value of numeric_only to silence this warning.\n",
            "  return df_power_tmp.sum()['activePower']\n",
            "<ipython-input-5-e45125cce959>:10: FutureWarning: The default value of numeric_only in DataFrame.sum is deprecated. In a future version, it will default to False. In addition, specifying 'numeric_only=None' is deprecated. Select only valid columns or specify the value of numeric_only to silence this warning.\n",
            "  return df_power_tmp.sum()['activePower']\n",
            "<ipython-input-5-e45125cce959>:10: FutureWarning: The default value of numeric_only in DataFrame.sum is deprecated. In a future version, it will default to False. In addition, specifying 'numeric_only=None' is deprecated. Select only valid columns or specify the value of numeric_only to silence this warning.\n",
            "  return df_power_tmp.sum()['activePower']\n",
            "<ipython-input-5-e45125cce959>:10: FutureWarning: The default value of numeric_only in DataFrame.sum is deprecated. In a future version, it will default to False. In addition, specifying 'numeric_only=None' is deprecated. Select only valid columns or specify the value of numeric_only to silence this warning.\n",
            "  return df_power_tmp.sum()['activePower']\n",
            "<ipython-input-5-e45125cce959>:10: FutureWarning: The default value of numeric_only in DataFrame.sum is deprecated. In a future version, it will default to False. In addition, specifying 'numeric_only=None' is deprecated. Select only valid columns or specify the value of numeric_only to silence this warning.\n",
            "  return df_power_tmp.sum()['activePower']\n",
            "<ipython-input-5-e45125cce959>:10: FutureWarning: The default value of numeric_only in DataFrame.sum is deprecated. In a future version, it will default to False. In addition, specifying 'numeric_only=None' is deprecated. Select only valid columns or specify the value of numeric_only to silence this warning.\n",
            "  return df_power_tmp.sum()['activePower']\n",
            "<ipython-input-5-e45125cce959>:10: FutureWarning: The default value of numeric_only in DataFrame.sum is deprecated. In a future version, it will default to False. In addition, specifying 'numeric_only=None' is deprecated. Select only valid columns or specify the value of numeric_only to silence this warning.\n",
            "  return df_power_tmp.sum()['activePower']\n",
            "<ipython-input-5-e45125cce959>:10: FutureWarning: The default value of numeric_only in DataFrame.sum is deprecated. In a future version, it will default to False. In addition, specifying 'numeric_only=None' is deprecated. Select only valid columns or specify the value of numeric_only to silence this warning.\n",
            "  return df_power_tmp.sum()['activePower']\n",
            "<ipython-input-5-e45125cce959>:10: FutureWarning: The default value of numeric_only in DataFrame.sum is deprecated. In a future version, it will default to False. In addition, specifying 'numeric_only=None' is deprecated. Select only valid columns or specify the value of numeric_only to silence this warning.\n",
            "  return df_power_tmp.sum()['activePower']\n",
            "<ipython-input-5-e45125cce959>:10: FutureWarning: The default value of numeric_only in DataFrame.sum is deprecated. In a future version, it will default to False. In addition, specifying 'numeric_only=None' is deprecated. Select only valid columns or specify the value of numeric_only to silence this warning.\n",
            "  return df_power_tmp.sum()['activePower']\n",
            "<ipython-input-5-e45125cce959>:10: FutureWarning: The default value of numeric_only in DataFrame.sum is deprecated. In a future version, it will default to False. In addition, specifying 'numeric_only=None' is deprecated. Select only valid columns or specify the value of numeric_only to silence this warning.\n",
            "  return df_power_tmp.sum()['activePower']\n",
            "<ipython-input-5-e45125cce959>:10: FutureWarning: The default value of numeric_only in DataFrame.sum is deprecated. In a future version, it will default to False. In addition, specifying 'numeric_only=None' is deprecated. Select only valid columns or specify the value of numeric_only to silence this warning.\n",
            "  return df_power_tmp.sum()['activePower']\n",
            "<ipython-input-5-e45125cce959>:10: FutureWarning: The default value of numeric_only in DataFrame.sum is deprecated. In a future version, it will default to False. In addition, specifying 'numeric_only=None' is deprecated. Select only valid columns or specify the value of numeric_only to silence this warning.\n",
            "  return df_power_tmp.sum()['activePower']\n",
            "<ipython-input-5-e45125cce959>:10: FutureWarning: The default value of numeric_only in DataFrame.sum is deprecated. In a future version, it will default to False. In addition, specifying 'numeric_only=None' is deprecated. Select only valid columns or specify the value of numeric_only to silence this warning.\n",
            "  return df_power_tmp.sum()['activePower']\n",
            "<ipython-input-5-e45125cce959>:10: FutureWarning: The default value of numeric_only in DataFrame.sum is deprecated. In a future version, it will default to False. In addition, specifying 'numeric_only=None' is deprecated. Select only valid columns or specify the value of numeric_only to silence this warning.\n",
            "  return df_power_tmp.sum()['activePower']\n",
            "<ipython-input-5-e45125cce959>:10: FutureWarning: The default value of numeric_only in DataFrame.sum is deprecated. In a future version, it will default to False. In addition, specifying 'numeric_only=None' is deprecated. Select only valid columns or specify the value of numeric_only to silence this warning.\n",
            "  return df_power_tmp.sum()['activePower']\n",
            "<ipython-input-5-e45125cce959>:10: FutureWarning: The default value of numeric_only in DataFrame.sum is deprecated. In a future version, it will default to False. In addition, specifying 'numeric_only=None' is deprecated. Select only valid columns or specify the value of numeric_only to silence this warning.\n",
            "  return df_power_tmp.sum()['activePower']\n",
            "<ipython-input-5-e45125cce959>:10: FutureWarning: The default value of numeric_only in DataFrame.sum is deprecated. In a future version, it will default to False. In addition, specifying 'numeric_only=None' is deprecated. Select only valid columns or specify the value of numeric_only to silence this warning.\n",
            "  return df_power_tmp.sum()['activePower']\n",
            "<ipython-input-5-e45125cce959>:10: FutureWarning: The default value of numeric_only in DataFrame.sum is deprecated. In a future version, it will default to False. In addition, specifying 'numeric_only=None' is deprecated. Select only valid columns or specify the value of numeric_only to silence this warning.\n",
            "  return df_power_tmp.sum()['activePower']\n",
            "<ipython-input-5-e45125cce959>:10: FutureWarning: The default value of numeric_only in DataFrame.sum is deprecated. In a future version, it will default to False. In addition, specifying 'numeric_only=None' is deprecated. Select only valid columns or specify the value of numeric_only to silence this warning.\n",
            "  return df_power_tmp.sum()['activePower']\n",
            "<ipython-input-5-e45125cce959>:10: FutureWarning: The default value of numeric_only in DataFrame.sum is deprecated. In a future version, it will default to False. In addition, specifying 'numeric_only=None' is deprecated. Select only valid columns or specify the value of numeric_only to silence this warning.\n",
            "  return df_power_tmp.sum()['activePower']\n",
            "<ipython-input-5-e45125cce959>:10: FutureWarning: The default value of numeric_only in DataFrame.sum is deprecated. In a future version, it will default to False. In addition, specifying 'numeric_only=None' is deprecated. Select only valid columns or specify the value of numeric_only to silence this warning.\n",
            "  return df_power_tmp.sum()['activePower']\n",
            "<ipython-input-5-e45125cce959>:10: FutureWarning: The default value of numeric_only in DataFrame.sum is deprecated. In a future version, it will default to False. In addition, specifying 'numeric_only=None' is deprecated. Select only valid columns or specify the value of numeric_only to silence this warning.\n",
            "  return df_power_tmp.sum()['activePower']\n",
            "<ipython-input-5-e45125cce959>:10: FutureWarning: The default value of numeric_only in DataFrame.sum is deprecated. In a future version, it will default to False. In addition, specifying 'numeric_only=None' is deprecated. Select only valid columns or specify the value of numeric_only to silence this warning.\n",
            "  return df_power_tmp.sum()['activePower']\n",
            "<ipython-input-5-e45125cce959>:10: FutureWarning: The default value of numeric_only in DataFrame.sum is deprecated. In a future version, it will default to False. In addition, specifying 'numeric_only=None' is deprecated. Select only valid columns or specify the value of numeric_only to silence this warning.\n",
            "  return df_power_tmp.sum()['activePower']\n",
            "<ipython-input-5-e45125cce959>:10: FutureWarning: The default value of numeric_only in DataFrame.sum is deprecated. In a future version, it will default to False. In addition, specifying 'numeric_only=None' is deprecated. Select only valid columns or specify the value of numeric_only to silence this warning.\n",
            "  return df_power_tmp.sum()['activePower']\n",
            "<ipython-input-5-e45125cce959>:10: FutureWarning: The default value of numeric_only in DataFrame.sum is deprecated. In a future version, it will default to False. In addition, specifying 'numeric_only=None' is deprecated. Select only valid columns or specify the value of numeric_only to silence this warning.\n",
            "  return df_power_tmp.sum()['activePower']\n",
            "<ipython-input-5-e45125cce959>:10: FutureWarning: The default value of numeric_only in DataFrame.sum is deprecated. In a future version, it will default to False. In addition, specifying 'numeric_only=None' is deprecated. Select only valid columns or specify the value of numeric_only to silence this warning.\n",
            "  return df_power_tmp.sum()['activePower']\n",
            "<ipython-input-5-e45125cce959>:10: FutureWarning: The default value of numeric_only in DataFrame.sum is deprecated. In a future version, it will default to False. In addition, specifying 'numeric_only=None' is deprecated. Select only valid columns or specify the value of numeric_only to silence this warning.\n",
            "  return df_power_tmp.sum()['activePower']\n",
            "<ipython-input-5-e45125cce959>:10: FutureWarning: The default value of numeric_only in DataFrame.sum is deprecated. In a future version, it will default to False. In addition, specifying 'numeric_only=None' is deprecated. Select only valid columns or specify the value of numeric_only to silence this warning.\n",
            "  return df_power_tmp.sum()['activePower']\n",
            "<ipython-input-5-e45125cce959>:10: FutureWarning: The default value of numeric_only in DataFrame.sum is deprecated. In a future version, it will default to False. In addition, specifying 'numeric_only=None' is deprecated. Select only valid columns or specify the value of numeric_only to silence this warning.\n",
            "  return df_power_tmp.sum()['activePower']\n",
            "<ipython-input-5-e45125cce959>:10: FutureWarning: The default value of numeric_only in DataFrame.sum is deprecated. In a future version, it will default to False. In addition, specifying 'numeric_only=None' is deprecated. Select only valid columns or specify the value of numeric_only to silence this warning.\n",
            "  return df_power_tmp.sum()['activePower']\n",
            "<ipython-input-5-e45125cce959>:10: FutureWarning: The default value of numeric_only in DataFrame.sum is deprecated. In a future version, it will default to False. In addition, specifying 'numeric_only=None' is deprecated. Select only valid columns or specify the value of numeric_only to silence this warning.\n",
            "  return df_power_tmp.sum()['activePower']\n",
            "<ipython-input-5-e45125cce959>:10: FutureWarning: The default value of numeric_only in DataFrame.sum is deprecated. In a future version, it will default to False. In addition, specifying 'numeric_only=None' is deprecated. Select only valid columns or specify the value of numeric_only to silence this warning.\n",
            "  return df_power_tmp.sum()['activePower']\n",
            "<ipython-input-5-e45125cce959>:10: FutureWarning: The default value of numeric_only in DataFrame.sum is deprecated. In a future version, it will default to False. In addition, specifying 'numeric_only=None' is deprecated. Select only valid columns or specify the value of numeric_only to silence this warning.\n",
            "  return df_power_tmp.sum()['activePower']\n",
            "<ipython-input-5-e45125cce959>:10: FutureWarning: The default value of numeric_only in DataFrame.sum is deprecated. In a future version, it will default to False. In addition, specifying 'numeric_only=None' is deprecated. Select only valid columns or specify the value of numeric_only to silence this warning.\n",
            "  return df_power_tmp.sum()['activePower']\n",
            "<ipython-input-5-e45125cce959>:10: FutureWarning: The default value of numeric_only in DataFrame.sum is deprecated. In a future version, it will default to False. In addition, specifying 'numeric_only=None' is deprecated. Select only valid columns or specify the value of numeric_only to silence this warning.\n",
            "  return df_power_tmp.sum()['activePower']\n",
            "<ipython-input-5-e45125cce959>:10: FutureWarning: The default value of numeric_only in DataFrame.sum is deprecated. In a future version, it will default to False. In addition, specifying 'numeric_only=None' is deprecated. Select only valid columns or specify the value of numeric_only to silence this warning.\n",
            "  return df_power_tmp.sum()['activePower']\n",
            "<ipython-input-5-e45125cce959>:10: FutureWarning: The default value of numeric_only in DataFrame.sum is deprecated. In a future version, it will default to False. In addition, specifying 'numeric_only=None' is deprecated. Select only valid columns or specify the value of numeric_only to silence this warning.\n",
            "  return df_power_tmp.sum()['activePower']\n",
            "<ipython-input-5-e45125cce959>:10: FutureWarning: The default value of numeric_only in DataFrame.sum is deprecated. In a future version, it will default to False. In addition, specifying 'numeric_only=None' is deprecated. Select only valid columns or specify the value of numeric_only to silence this warning.\n",
            "  return df_power_tmp.sum()['activePower']\n",
            "<ipython-input-5-e45125cce959>:10: FutureWarning: The default value of numeric_only in DataFrame.sum is deprecated. In a future version, it will default to False. In addition, specifying 'numeric_only=None' is deprecated. Select only valid columns or specify the value of numeric_only to silence this warning.\n",
            "  return df_power_tmp.sum()['activePower']\n",
            "<ipython-input-5-e45125cce959>:10: FutureWarning: The default value of numeric_only in DataFrame.sum is deprecated. In a future version, it will default to False. In addition, specifying 'numeric_only=None' is deprecated. Select only valid columns or specify the value of numeric_only to silence this warning.\n",
            "  return df_power_tmp.sum()['activePower']\n",
            "<ipython-input-5-e45125cce959>:10: FutureWarning: The default value of numeric_only in DataFrame.sum is deprecated. In a future version, it will default to False. In addition, specifying 'numeric_only=None' is deprecated. Select only valid columns or specify the value of numeric_only to silence this warning.\n",
            "  return df_power_tmp.sum()['activePower']\n",
            "<ipython-input-5-e45125cce959>:10: FutureWarning: The default value of numeric_only in DataFrame.sum is deprecated. In a future version, it will default to False. In addition, specifying 'numeric_only=None' is deprecated. Select only valid columns or specify the value of numeric_only to silence this warning.\n",
            "  return df_power_tmp.sum()['activePower']\n",
            "<ipython-input-5-e45125cce959>:10: FutureWarning: The default value of numeric_only in DataFrame.sum is deprecated. In a future version, it will default to False. In addition, specifying 'numeric_only=None' is deprecated. Select only valid columns or specify the value of numeric_only to silence this warning.\n",
            "  return df_power_tmp.sum()['activePower']\n"
          ]
        }
      ]
    },
    {
      "cell_type": "markdown",
      "source": [
        "## 열처리 설비(heating machine) 에너지"
      ],
      "metadata": {
        "id": "HBMfhowOYjO0"
      }
    },
    {
      "cell_type": "code",
      "source": [
        "main_heat = main[main['ResourceID']==8][['Type', 'Temperature', 'Temperature_Time', 'Energy']].reset_index(drop=True)\n",
        "main_heat"
      ],
      "metadata": {
        "colab": {
          "base_uri": "https://localhost:8080/",
          "height": 708
        },
        "id": "odaEtutgd2x0",
        "outputId": "70507251-ba53-45ad-8943-7ecd05267843"
      },
      "execution_count": null,
      "outputs": [
        {
          "output_type": "execute_result",
          "data": {
            "text/plain": [
              "        Type  Temperature  Temperature_Time     Energy\n",
              "0   Training         55.6              71.2  60719.180\n",
              "1   Training         45.0              20.0   4533.797\n",
              "2   Training         45.0              50.0  12711.092\n",
              "3   Training         45.0              80.0  39409.043\n",
              "4   Training         45.0              50.0  11895.350\n",
              "5   Training         60.0              50.0  42899.968\n",
              "6   Training         34.4              71.2  11910.930\n",
              "7   Training         45.0              50.0  12046.118\n",
              "8   Training         34.4              28.8   3720.199\n",
              "9   Training         45.0              50.0  12016.062\n",
              "10  Training         45.0              50.0  11726.886\n",
              "11  Training         55.6              28.8  14507.580\n",
              "12  Training         30.0              50.0   4662.946\n",
              "13      Test         30.0              50.0   4739.337\n",
              "14      Test         37.4              65.0  12185.923\n",
              "15      Test         45.0              80.0  39053.206\n",
              "16      Test         52.5              65.0  38681.709\n",
              "17      Test         60.0              50.0  70714.697\n",
              "18      Test         52.5              35.0  10347.862\n",
              "19      Test         45.0              20.0   4517.209\n",
              "20      Test         37.5              35.0   4583.000"
            ],
            "text/html": [
              "\n",
              "  <div id=\"df-48f10cba-e061-498d-a823-b5fddf744d1e\">\n",
              "    <div class=\"colab-df-container\">\n",
              "      <div>\n",
              "<style scoped>\n",
              "    .dataframe tbody tr th:only-of-type {\n",
              "        vertical-align: middle;\n",
              "    }\n",
              "\n",
              "    .dataframe tbody tr th {\n",
              "        vertical-align: top;\n",
              "    }\n",
              "\n",
              "    .dataframe thead th {\n",
              "        text-align: right;\n",
              "    }\n",
              "</style>\n",
              "<table border=\"1\" class=\"dataframe\">\n",
              "  <thead>\n",
              "    <tr style=\"text-align: right;\">\n",
              "      <th></th>\n",
              "      <th>Type</th>\n",
              "      <th>Temperature</th>\n",
              "      <th>Temperature_Time</th>\n",
              "      <th>Energy</th>\n",
              "    </tr>\n",
              "  </thead>\n",
              "  <tbody>\n",
              "    <tr>\n",
              "      <th>0</th>\n",
              "      <td>Training</td>\n",
              "      <td>55.6</td>\n",
              "      <td>71.2</td>\n",
              "      <td>60719.180</td>\n",
              "    </tr>\n",
              "    <tr>\n",
              "      <th>1</th>\n",
              "      <td>Training</td>\n",
              "      <td>45.0</td>\n",
              "      <td>20.0</td>\n",
              "      <td>4533.797</td>\n",
              "    </tr>\n",
              "    <tr>\n",
              "      <th>2</th>\n",
              "      <td>Training</td>\n",
              "      <td>45.0</td>\n",
              "      <td>50.0</td>\n",
              "      <td>12711.092</td>\n",
              "    </tr>\n",
              "    <tr>\n",
              "      <th>3</th>\n",
              "      <td>Training</td>\n",
              "      <td>45.0</td>\n",
              "      <td>80.0</td>\n",
              "      <td>39409.043</td>\n",
              "    </tr>\n",
              "    <tr>\n",
              "      <th>4</th>\n",
              "      <td>Training</td>\n",
              "      <td>45.0</td>\n",
              "      <td>50.0</td>\n",
              "      <td>11895.350</td>\n",
              "    </tr>\n",
              "    <tr>\n",
              "      <th>5</th>\n",
              "      <td>Training</td>\n",
              "      <td>60.0</td>\n",
              "      <td>50.0</td>\n",
              "      <td>42899.968</td>\n",
              "    </tr>\n",
              "    <tr>\n",
              "      <th>6</th>\n",
              "      <td>Training</td>\n",
              "      <td>34.4</td>\n",
              "      <td>71.2</td>\n",
              "      <td>11910.930</td>\n",
              "    </tr>\n",
              "    <tr>\n",
              "      <th>7</th>\n",
              "      <td>Training</td>\n",
              "      <td>45.0</td>\n",
              "      <td>50.0</td>\n",
              "      <td>12046.118</td>\n",
              "    </tr>\n",
              "    <tr>\n",
              "      <th>8</th>\n",
              "      <td>Training</td>\n",
              "      <td>34.4</td>\n",
              "      <td>28.8</td>\n",
              "      <td>3720.199</td>\n",
              "    </tr>\n",
              "    <tr>\n",
              "      <th>9</th>\n",
              "      <td>Training</td>\n",
              "      <td>45.0</td>\n",
              "      <td>50.0</td>\n",
              "      <td>12016.062</td>\n",
              "    </tr>\n",
              "    <tr>\n",
              "      <th>10</th>\n",
              "      <td>Training</td>\n",
              "      <td>45.0</td>\n",
              "      <td>50.0</td>\n",
              "      <td>11726.886</td>\n",
              "    </tr>\n",
              "    <tr>\n",
              "      <th>11</th>\n",
              "      <td>Training</td>\n",
              "      <td>55.6</td>\n",
              "      <td>28.8</td>\n",
              "      <td>14507.580</td>\n",
              "    </tr>\n",
              "    <tr>\n",
              "      <th>12</th>\n",
              "      <td>Training</td>\n",
              "      <td>30.0</td>\n",
              "      <td>50.0</td>\n",
              "      <td>4662.946</td>\n",
              "    </tr>\n",
              "    <tr>\n",
              "      <th>13</th>\n",
              "      <td>Test</td>\n",
              "      <td>30.0</td>\n",
              "      <td>50.0</td>\n",
              "      <td>4739.337</td>\n",
              "    </tr>\n",
              "    <tr>\n",
              "      <th>14</th>\n",
              "      <td>Test</td>\n",
              "      <td>37.4</td>\n",
              "      <td>65.0</td>\n",
              "      <td>12185.923</td>\n",
              "    </tr>\n",
              "    <tr>\n",
              "      <th>15</th>\n",
              "      <td>Test</td>\n",
              "      <td>45.0</td>\n",
              "      <td>80.0</td>\n",
              "      <td>39053.206</td>\n",
              "    </tr>\n",
              "    <tr>\n",
              "      <th>16</th>\n",
              "      <td>Test</td>\n",
              "      <td>52.5</td>\n",
              "      <td>65.0</td>\n",
              "      <td>38681.709</td>\n",
              "    </tr>\n",
              "    <tr>\n",
              "      <th>17</th>\n",
              "      <td>Test</td>\n",
              "      <td>60.0</td>\n",
              "      <td>50.0</td>\n",
              "      <td>70714.697</td>\n",
              "    </tr>\n",
              "    <tr>\n",
              "      <th>18</th>\n",
              "      <td>Test</td>\n",
              "      <td>52.5</td>\n",
              "      <td>35.0</td>\n",
              "      <td>10347.862</td>\n",
              "    </tr>\n",
              "    <tr>\n",
              "      <th>19</th>\n",
              "      <td>Test</td>\n",
              "      <td>45.0</td>\n",
              "      <td>20.0</td>\n",
              "      <td>4517.209</td>\n",
              "    </tr>\n",
              "    <tr>\n",
              "      <th>20</th>\n",
              "      <td>Test</td>\n",
              "      <td>37.5</td>\n",
              "      <td>35.0</td>\n",
              "      <td>4583.000</td>\n",
              "    </tr>\n",
              "  </tbody>\n",
              "</table>\n",
              "</div>\n",
              "      <button class=\"colab-df-convert\" onclick=\"convertToInteractive('df-48f10cba-e061-498d-a823-b5fddf744d1e')\"\n",
              "              title=\"Convert this dataframe to an interactive table.\"\n",
              "              style=\"display:none;\">\n",
              "        \n",
              "  <svg xmlns=\"http://www.w3.org/2000/svg\" height=\"24px\"viewBox=\"0 0 24 24\"\n",
              "       width=\"24px\">\n",
              "    <path d=\"M0 0h24v24H0V0z\" fill=\"none\"/>\n",
              "    <path d=\"M18.56 5.44l.94 2.06.94-2.06 2.06-.94-2.06-.94-.94-2.06-.94 2.06-2.06.94zm-11 1L8.5 8.5l.94-2.06 2.06-.94-2.06-.94L8.5 2.5l-.94 2.06-2.06.94zm10 10l.94 2.06.94-2.06 2.06-.94-2.06-.94-.94-2.06-.94 2.06-2.06.94z\"/><path d=\"M17.41 7.96l-1.37-1.37c-.4-.4-.92-.59-1.43-.59-.52 0-1.04.2-1.43.59L10.3 9.45l-7.72 7.72c-.78.78-.78 2.05 0 2.83L4 21.41c.39.39.9.59 1.41.59.51 0 1.02-.2 1.41-.59l7.78-7.78 2.81-2.81c.8-.78.8-2.07 0-2.86zM5.41 20L4 18.59l7.72-7.72 1.47 1.35L5.41 20z\"/>\n",
              "  </svg>\n",
              "      </button>\n",
              "      \n",
              "  <style>\n",
              "    .colab-df-container {\n",
              "      display:flex;\n",
              "      flex-wrap:wrap;\n",
              "      gap: 12px;\n",
              "    }\n",
              "\n",
              "    .colab-df-convert {\n",
              "      background-color: #E8F0FE;\n",
              "      border: none;\n",
              "      border-radius: 50%;\n",
              "      cursor: pointer;\n",
              "      display: none;\n",
              "      fill: #1967D2;\n",
              "      height: 32px;\n",
              "      padding: 0 0 0 0;\n",
              "      width: 32px;\n",
              "    }\n",
              "\n",
              "    .colab-df-convert:hover {\n",
              "      background-color: #E2EBFA;\n",
              "      box-shadow: 0px 1px 2px rgba(60, 64, 67, 0.3), 0px 1px 3px 1px rgba(60, 64, 67, 0.15);\n",
              "      fill: #174EA6;\n",
              "    }\n",
              "\n",
              "    [theme=dark] .colab-df-convert {\n",
              "      background-color: #3B4455;\n",
              "      fill: #D2E3FC;\n",
              "    }\n",
              "\n",
              "    [theme=dark] .colab-df-convert:hover {\n",
              "      background-color: #434B5C;\n",
              "      box-shadow: 0px 1px 3px 1px rgba(0, 0, 0, 0.15);\n",
              "      filter: drop-shadow(0px 1px 2px rgba(0, 0, 0, 0.3));\n",
              "      fill: #FFFFFF;\n",
              "    }\n",
              "  </style>\n",
              "\n",
              "      <script>\n",
              "        const buttonEl =\n",
              "          document.querySelector('#df-48f10cba-e061-498d-a823-b5fddf744d1e button.colab-df-convert');\n",
              "        buttonEl.style.display =\n",
              "          google.colab.kernel.accessAllowed ? 'block' : 'none';\n",
              "\n",
              "        async function convertToInteractive(key) {\n",
              "          const element = document.querySelector('#df-48f10cba-e061-498d-a823-b5fddf744d1e');\n",
              "          const dataTable =\n",
              "            await google.colab.kernel.invokeFunction('convertToInteractive',\n",
              "                                                     [key], {});\n",
              "          if (!dataTable) return;\n",
              "\n",
              "          const docLinkHtml = 'Like what you see? Visit the ' +\n",
              "            '<a target=\"_blank\" href=https://colab.research.google.com/notebooks/data_table.ipynb>data table notebook</a>'\n",
              "            + ' to learn more about interactive tables.';\n",
              "          element.innerHTML = '';\n",
              "          dataTable['output_type'] = 'display_data';\n",
              "          await google.colab.output.renderOutput(dataTable, element);\n",
              "          const docLink = document.createElement('div');\n",
              "          docLink.innerHTML = docLinkHtml;\n",
              "          element.appendChild(docLink);\n",
              "        }\n",
              "      </script>\n",
              "    </div>\n",
              "  </div>\n",
              "  "
            ]
          },
          "metadata": {},
          "execution_count": 139
        }
      ]
    },
    {
      "cell_type": "code",
      "source": [
        "main_heat_train = main_heat[main_heat['Type']=='Training']\n",
        "main_heat_test = main_heat[main_heat['Type']=='Test']\n",
        "\n",
        "print(f'Train Set Length : {len(main_heat_train)}, Test Set Length : {len(main_heat_test)}')"
      ],
      "metadata": {
        "colab": {
          "base_uri": "https://localhost:8080/"
        },
        "id": "XsqYVib_eVXp",
        "outputId": "b93d8fa1-9b2e-4d7d-d535-05db32dfb4c8"
      },
      "execution_count": null,
      "outputs": [
        {
          "output_type": "stream",
          "name": "stdout",
          "text": [
            "Train Set Length : 13, Test Set Length : 8\n"
          ]
        }
      ]
    },
    {
      "cell_type": "code",
      "source": [
        "X_train = main_heat_train.drop(columns=['Energy', 'Type'])\n",
        "Y_train = main_heat_train[['Energy']]\n",
        "\n",
        "X_test = main_heat_test.drop(columns=['Energy', 'Type'])\n",
        "Y_test = main_heat_test[['Energy']]\n",
        "\n",
        "sc = MinMaxScaler()\n",
        "sc.fit(X_train)\n",
        "X_train_scale = sc.transform(X_train)\n",
        "X_test_scale = sc.transform(X_test)"
      ],
      "metadata": {
        "id": "bCVJGeUVg8Dj"
      },
      "execution_count": null,
      "outputs": []
    },
    {
      "cell_type": "markdown",
      "source": [
        "### Linear Regression"
      ],
      "metadata": {
        "id": "tmryuk8EkU8W"
      }
    },
    {
      "cell_type": "code",
      "source": [
        "lr = LinearRegression()\n",
        "lr.fit(X_train_scale, Y_train)\n",
        "y_pred = lr.predict(X_test_scale)\n",
        "\n",
        "print(f'R2 Score : {round(r2_score(Y_test, y_pred)*100, 2)}')\n",
        "\n",
        "plt.plot(y_pred, label='pred')\n",
        "plt.plot(Y_test.reset_index(drop=True), label='real')\n",
        "plt.legend()\n",
        "\n",
        "plt.show()"
      ],
      "metadata": {
        "id": "cF2gxqr5ho2S"
      },
      "execution_count": null,
      "outputs": []
    },
    {
      "cell_type": "markdown",
      "source": [
        "## 로봇 조립 설비(robot assembly machine) 에너지"
      ],
      "metadata": {
        "id": "clZtv74WouEF"
      }
    },
    {
      "cell_type": "code",
      "source": [
        "main_robot = main[main['ResourceID']==4][['Type', 'Fuse', 'Energy']].reset_index(drop=True)\n",
        "main_robot"
      ],
      "metadata": {
        "colab": {
          "base_uri": "https://localhost:8080/",
          "height": 708
        },
        "id": "FbO3bj_TpFfq",
        "outputId": "eb6c910c-3b13-4bc1-bd58-6ac70022d971"
      },
      "execution_count": null,
      "outputs": [
        {
          "output_type": "execute_result",
          "data": {
            "text/plain": [
              "        Type  Fuse     Energy\n",
              "0   Training     0  14582.588\n",
              "1   Training     0  14868.580\n",
              "2   Training     0  14669.338\n",
              "3   Training     0  14662.318\n",
              "4   Training     0  14856.591\n",
              "5   Training     0  14844.179\n",
              "6   Training     0  14863.493\n",
              "7   Training     1  20843.896\n",
              "8   Training     1  39936.777\n",
              "9   Training     1  20811.988\n",
              "10  Training     1  46887.840\n",
              "11  Training     1  20853.388\n",
              "12  Training     1  20988.333\n",
              "13      Test     1  20943.066\n",
              "14      Test     2  22950.258\n",
              "15      Test     2  22978.664\n",
              "16      Test     2  22995.482\n",
              "17      Test     2  23321.154\n",
              "18      Test     2  23074.903\n",
              "19      Test     2  23270.148\n",
              "20      Test     2  49678.866"
            ],
            "text/html": [
              "\n",
              "  <div id=\"df-1d01e2ce-92f0-425f-b9ce-a848e572c086\">\n",
              "    <div class=\"colab-df-container\">\n",
              "      <div>\n",
              "<style scoped>\n",
              "    .dataframe tbody tr th:only-of-type {\n",
              "        vertical-align: middle;\n",
              "    }\n",
              "\n",
              "    .dataframe tbody tr th {\n",
              "        vertical-align: top;\n",
              "    }\n",
              "\n",
              "    .dataframe thead th {\n",
              "        text-align: right;\n",
              "    }\n",
              "</style>\n",
              "<table border=\"1\" class=\"dataframe\">\n",
              "  <thead>\n",
              "    <tr style=\"text-align: right;\">\n",
              "      <th></th>\n",
              "      <th>Type</th>\n",
              "      <th>Fuse</th>\n",
              "      <th>Energy</th>\n",
              "    </tr>\n",
              "  </thead>\n",
              "  <tbody>\n",
              "    <tr>\n",
              "      <th>0</th>\n",
              "      <td>Training</td>\n",
              "      <td>0</td>\n",
              "      <td>14582.588</td>\n",
              "    </tr>\n",
              "    <tr>\n",
              "      <th>1</th>\n",
              "      <td>Training</td>\n",
              "      <td>0</td>\n",
              "      <td>14868.580</td>\n",
              "    </tr>\n",
              "    <tr>\n",
              "      <th>2</th>\n",
              "      <td>Training</td>\n",
              "      <td>0</td>\n",
              "      <td>14669.338</td>\n",
              "    </tr>\n",
              "    <tr>\n",
              "      <th>3</th>\n",
              "      <td>Training</td>\n",
              "      <td>0</td>\n",
              "      <td>14662.318</td>\n",
              "    </tr>\n",
              "    <tr>\n",
              "      <th>4</th>\n",
              "      <td>Training</td>\n",
              "      <td>0</td>\n",
              "      <td>14856.591</td>\n",
              "    </tr>\n",
              "    <tr>\n",
              "      <th>5</th>\n",
              "      <td>Training</td>\n",
              "      <td>0</td>\n",
              "      <td>14844.179</td>\n",
              "    </tr>\n",
              "    <tr>\n",
              "      <th>6</th>\n",
              "      <td>Training</td>\n",
              "      <td>0</td>\n",
              "      <td>14863.493</td>\n",
              "    </tr>\n",
              "    <tr>\n",
              "      <th>7</th>\n",
              "      <td>Training</td>\n",
              "      <td>1</td>\n",
              "      <td>20843.896</td>\n",
              "    </tr>\n",
              "    <tr>\n",
              "      <th>8</th>\n",
              "      <td>Training</td>\n",
              "      <td>1</td>\n",
              "      <td>39936.777</td>\n",
              "    </tr>\n",
              "    <tr>\n",
              "      <th>9</th>\n",
              "      <td>Training</td>\n",
              "      <td>1</td>\n",
              "      <td>20811.988</td>\n",
              "    </tr>\n",
              "    <tr>\n",
              "      <th>10</th>\n",
              "      <td>Training</td>\n",
              "      <td>1</td>\n",
              "      <td>46887.840</td>\n",
              "    </tr>\n",
              "    <tr>\n",
              "      <th>11</th>\n",
              "      <td>Training</td>\n",
              "      <td>1</td>\n",
              "      <td>20853.388</td>\n",
              "    </tr>\n",
              "    <tr>\n",
              "      <th>12</th>\n",
              "      <td>Training</td>\n",
              "      <td>1</td>\n",
              "      <td>20988.333</td>\n",
              "    </tr>\n",
              "    <tr>\n",
              "      <th>13</th>\n",
              "      <td>Test</td>\n",
              "      <td>1</td>\n",
              "      <td>20943.066</td>\n",
              "    </tr>\n",
              "    <tr>\n",
              "      <th>14</th>\n",
              "      <td>Test</td>\n",
              "      <td>2</td>\n",
              "      <td>22950.258</td>\n",
              "    </tr>\n",
              "    <tr>\n",
              "      <th>15</th>\n",
              "      <td>Test</td>\n",
              "      <td>2</td>\n",
              "      <td>22978.664</td>\n",
              "    </tr>\n",
              "    <tr>\n",
              "      <th>16</th>\n",
              "      <td>Test</td>\n",
              "      <td>2</td>\n",
              "      <td>22995.482</td>\n",
              "    </tr>\n",
              "    <tr>\n",
              "      <th>17</th>\n",
              "      <td>Test</td>\n",
              "      <td>2</td>\n",
              "      <td>23321.154</td>\n",
              "    </tr>\n",
              "    <tr>\n",
              "      <th>18</th>\n",
              "      <td>Test</td>\n",
              "      <td>2</td>\n",
              "      <td>23074.903</td>\n",
              "    </tr>\n",
              "    <tr>\n",
              "      <th>19</th>\n",
              "      <td>Test</td>\n",
              "      <td>2</td>\n",
              "      <td>23270.148</td>\n",
              "    </tr>\n",
              "    <tr>\n",
              "      <th>20</th>\n",
              "      <td>Test</td>\n",
              "      <td>2</td>\n",
              "      <td>49678.866</td>\n",
              "    </tr>\n",
              "  </tbody>\n",
              "</table>\n",
              "</div>\n",
              "      <button class=\"colab-df-convert\" onclick=\"convertToInteractive('df-1d01e2ce-92f0-425f-b9ce-a848e572c086')\"\n",
              "              title=\"Convert this dataframe to an interactive table.\"\n",
              "              style=\"display:none;\">\n",
              "        \n",
              "  <svg xmlns=\"http://www.w3.org/2000/svg\" height=\"24px\"viewBox=\"0 0 24 24\"\n",
              "       width=\"24px\">\n",
              "    <path d=\"M0 0h24v24H0V0z\" fill=\"none\"/>\n",
              "    <path d=\"M18.56 5.44l.94 2.06.94-2.06 2.06-.94-2.06-.94-.94-2.06-.94 2.06-2.06.94zm-11 1L8.5 8.5l.94-2.06 2.06-.94-2.06-.94L8.5 2.5l-.94 2.06-2.06.94zm10 10l.94 2.06.94-2.06 2.06-.94-2.06-.94-.94-2.06-.94 2.06-2.06.94z\"/><path d=\"M17.41 7.96l-1.37-1.37c-.4-.4-.92-.59-1.43-.59-.52 0-1.04.2-1.43.59L10.3 9.45l-7.72 7.72c-.78.78-.78 2.05 0 2.83L4 21.41c.39.39.9.59 1.41.59.51 0 1.02-.2 1.41-.59l7.78-7.78 2.81-2.81c.8-.78.8-2.07 0-2.86zM5.41 20L4 18.59l7.72-7.72 1.47 1.35L5.41 20z\"/>\n",
              "  </svg>\n",
              "      </button>\n",
              "      \n",
              "  <style>\n",
              "    .colab-df-container {\n",
              "      display:flex;\n",
              "      flex-wrap:wrap;\n",
              "      gap: 12px;\n",
              "    }\n",
              "\n",
              "    .colab-df-convert {\n",
              "      background-color: #E8F0FE;\n",
              "      border: none;\n",
              "      border-radius: 50%;\n",
              "      cursor: pointer;\n",
              "      display: none;\n",
              "      fill: #1967D2;\n",
              "      height: 32px;\n",
              "      padding: 0 0 0 0;\n",
              "      width: 32px;\n",
              "    }\n",
              "\n",
              "    .colab-df-convert:hover {\n",
              "      background-color: #E2EBFA;\n",
              "      box-shadow: 0px 1px 2px rgba(60, 64, 67, 0.3), 0px 1px 3px 1px rgba(60, 64, 67, 0.15);\n",
              "      fill: #174EA6;\n",
              "    }\n",
              "\n",
              "    [theme=dark] .colab-df-convert {\n",
              "      background-color: #3B4455;\n",
              "      fill: #D2E3FC;\n",
              "    }\n",
              "\n",
              "    [theme=dark] .colab-df-convert:hover {\n",
              "      background-color: #434B5C;\n",
              "      box-shadow: 0px 1px 3px 1px rgba(0, 0, 0, 0.15);\n",
              "      filter: drop-shadow(0px 1px 2px rgba(0, 0, 0, 0.3));\n",
              "      fill: #FFFFFF;\n",
              "    }\n",
              "  </style>\n",
              "\n",
              "      <script>\n",
              "        const buttonEl =\n",
              "          document.querySelector('#df-1d01e2ce-92f0-425f-b9ce-a848e572c086 button.colab-df-convert');\n",
              "        buttonEl.style.display =\n",
              "          google.colab.kernel.accessAllowed ? 'block' : 'none';\n",
              "\n",
              "        async function convertToInteractive(key) {\n",
              "          const element = document.querySelector('#df-1d01e2ce-92f0-425f-b9ce-a848e572c086');\n",
              "          const dataTable =\n",
              "            await google.colab.kernel.invokeFunction('convertToInteractive',\n",
              "                                                     [key], {});\n",
              "          if (!dataTable) return;\n",
              "\n",
              "          const docLinkHtml = 'Like what you see? Visit the ' +\n",
              "            '<a target=\"_blank\" href=https://colab.research.google.com/notebooks/data_table.ipynb>data table notebook</a>'\n",
              "            + ' to learn more about interactive tables.';\n",
              "          element.innerHTML = '';\n",
              "          dataTable['output_type'] = 'display_data';\n",
              "          await google.colab.output.renderOutput(dataTable, element);\n",
              "          const docLink = document.createElement('div');\n",
              "          docLink.innerHTML = docLinkHtml;\n",
              "          element.appendChild(docLink);\n",
              "        }\n",
              "      </script>\n",
              "    </div>\n",
              "  </div>\n",
              "  "
            ]
          },
          "metadata": {},
          "execution_count": 7
        }
      ]
    },
    {
      "cell_type": "code",
      "source": [
        "main_robot_train = main_robot[main_robot['Type']=='Training']\n",
        "main_robot_test = main_robot[main_robot['Type']=='Test']\n",
        "\n",
        "print(f'Train Set Length : {len(main_robot_train)}, Test Set Length : {len(main_robot_test)}')"
      ],
      "metadata": {
        "colab": {
          "base_uri": "https://localhost:8080/"
        },
        "id": "iEtFo3TbpQsP",
        "outputId": "faf0544f-464e-459d-8b16-c921d0bbf200"
      },
      "execution_count": null,
      "outputs": [
        {
          "output_type": "stream",
          "name": "stdout",
          "text": [
            "Train Set Length : 13, Test Set Length : 8\n"
          ]
        }
      ]
    },
    {
      "cell_type": "code",
      "source": [
        "X_train = main_robot_train.drop(columns=['Energy', 'Type'])\n",
        "Y_train = main_robot_train[['Energy']]\n",
        "\n",
        "X_test = main_robot_test.drop(columns=['Energy', 'Type'])\n",
        "Y_test = main_robot_test[['Energy']]\n",
        "\n",
        "sc = MinMaxScaler()\n",
        "X_train_scale = sc.fit_transform(X_train)\n",
        "X_test_scale = sc.transform(X_test)\n",
        "\n",
        "sc_y = MinMaxScaler()\n",
        "Y_train_scale = sc_y.fit_transform(Y_train)\n",
        "Y_test_scale = sc_y.transform(Y_test)"
      ],
      "metadata": {
        "id": "odhSBGOBpett"
      },
      "execution_count": null,
      "outputs": []
    },
    {
      "cell_type": "markdown",
      "source": [
        "### Linear Regression"
      ],
      "metadata": {
        "id": "MOw2ryyzpvf6"
      }
    },
    {
      "cell_type": "code",
      "source": [
        "lr = LinearRegression()\n",
        "lr.fit(X_train_scale, Y_train)\n",
        "y_pred = lr.predict(X_test_scale)\n",
        "\n",
        "print(f'R2 Score : {round(r2_score(Y_test, y_pred)*100, 2)}')\n",
        "\n",
        "plt.plot(y_pred, label='pred')\n",
        "plt.plot(Y_test.reset_index(drop=True), label='real')\n",
        "plt.legend()\n",
        "\n",
        "plt.show()"
      ],
      "metadata": {
        "colab": {
          "base_uri": "https://localhost:8080/",
          "height": 450
        },
        "outputId": "10e009a0-10d1-4df3-9003-9f25260ea2f1",
        "id": "7gKjuGGipvf6"
      },
      "execution_count": null,
      "outputs": [
        {
          "output_type": "stream",
          "name": "stdout",
          "text": [
            "R2 Score : -254.99\n"
          ]
        },
        {
          "output_type": "display_data",
          "data": {
            "text/plain": [
              "<Figure size 640x480 with 1 Axes>"
            ],
            "image/png": "[encoded data removed]"
          },
          "metadata": {}
        }
      ]
    },
    {
      "cell_type": "markdown",
      "source": [
        "### SVM"
      ],
      "metadata": {
        "id": "vO0x3qjtqWf7"
      }
    },
    {
      "cell_type": "code",
      "source": [
        "import sklearn.svm as svm\n",
        "from sklearn.model_selection import GridSearchCV\n",
        "\n",
        "# GridSearchCV\n",
        "svr = svm.SVR()\n",
        "parameters = {\n",
        "    'kernel': ['linear', 'rbf', 'poly'],\n",
        "    'C' : [1, 10, 100],\n",
        "    'gamma' : [0.01, 0.05, 0.1],\n",
        "    'epsilon' : [0, 0.01, 0.1, 0.5, 1]\n",
        "}\n",
        "\n",
        "grid_svr = GridSearchCV(svr, parameters, scoring='r2', n_jobs=-1)\n",
        "grid_svr.fit(X_train_scale, Y_train_scale)\n",
        "\n",
        "print(grid_svr.best_params_)\n",
        "\n",
        "pd.DataFrame(grid_svr.cv_results_)[['rank_test_score', 'mean_test_score','params']].sort_values(by='rank_test_score')"
      ],
      "metadata": {
        "colab": {
          "base_uri": "https://localhost:8080/",
          "height": 503
        },
        "id": "1vmqhTNZuCdv",
        "outputId": "3856b51b-8daf-46d4-db93-3a2278e01c8f"
      },
      "execution_count": null,
      "outputs": [
        {
          "output_type": "stream",
          "name": "stdout",
          "text": [
            "{'C': 1, 'epsilon': 0, 'gamma': 0.05, 'kernel': 'rbf'}\n"
          ]
        },
        {
          "output_type": "stream",
          "name": "stderr",
          "text": [
            "/usr/local/lib/python3.10/dist-packages/sklearn/utils/validation.py:1143: DataConversionWarning: A column-vector y was passed when a 1d array was expected. Please change the shape of y to (n_samples, ), for example using ravel().\n",
            "  y = column_or_1d(y, warn=True)\n"
          ]
        },
        {
          "output_type": "execute_result",
          "data": {
            "text/plain": [
              "     rank_test_score  mean_test_score  \\\n",
              "4                  1        -0.880184   \n",
              "98                 2        -0.880211   \n",
              "94                 3        -0.929901   \n",
              "49                 4        -0.929901   \n",
              "91                 5        -0.929903   \n",
              "..               ...              ...   \n",
              "27                82    -14284.292518   \n",
              "36                82    -14284.292518   \n",
              "37                82    -14284.292518   \n",
              "73                82    -14284.292518   \n",
              "134               82    -14284.292518   \n",
              "\n",
              "                                                params  \n",
              "4    {'C': 1, 'epsilon': 0, 'gamma': 0.05, 'kernel'...  \n",
              "98   {'C': 100, 'epsilon': 0, 'gamma': 0.1, 'kernel...  \n",
              "94   {'C': 100, 'epsilon': 0, 'gamma': 0.05, 'kerne...  \n",
              "49   {'C': 10, 'epsilon': 0, 'gamma': 0.05, 'kernel...  \n",
              "91   {'C': 100, 'epsilon': 0, 'gamma': 0.01, 'kerne...  \n",
              "..                                                 ...  \n",
              "27   {'C': 1, 'epsilon': 0.5, 'gamma': 0.01, 'kerne...  \n",
              "36   {'C': 1, 'epsilon': 1, 'gamma': 0.01, 'kernel'...  \n",
              "37   {'C': 1, 'epsilon': 1, 'gamma': 0.01, 'kernel'...  \n",
              "73   {'C': 10, 'epsilon': 0.5, 'gamma': 0.01, 'kern...  \n",
              "134  {'C': 100, 'epsilon': 1, 'gamma': 0.1, 'kernel...  \n",
              "\n",
              "[135 rows x 3 columns]"
            ],
            "text/html": [
              "\n",
              "  <div id=\"df-6c833a90-45bb-416b-86e3-94fe691d14bb\">\n",
              "    <div class=\"colab-df-container\">\n",
              "      <div>\n",
              "<style scoped>\n",
              "    .dataframe tbody tr th:only-of-type {\n",
              "        vertical-align: middle;\n",
              "    }\n",
              "\n",
              "    .dataframe tbody tr th {\n",
              "        vertical-align: top;\n",
              "    }\n",
              "\n",
              "    .dataframe thead th {\n",
              "        text-align: right;\n",
              "    }\n",
              "</style>\n",
              "<table border=\"1\" class=\"dataframe\">\n",
              "  <thead>\n",
              "    <tr style=\"text-align: right;\">\n",
              "      <th></th>\n",
              "      <th>rank_test_score</th>\n",
              "      <th>mean_test_score</th>\n",
              "      <th>params</th>\n",
              "    </tr>\n",
              "  </thead>\n",
              "  <tbody>\n",
              "    <tr>\n",
              "      <th>4</th>\n",
              "      <td>1</td>\n",
              "      <td>-0.880184</td>\n",
              "      <td>{'C': 1, 'epsilon': 0, 'gamma': 0.05, 'kernel'...</td>\n",
              "    </tr>\n",
              "    <tr>\n",
              "      <th>98</th>\n",
              "      <td>2</td>\n",
              "      <td>-0.880211</td>\n",
              "      <td>{'C': 100, 'epsilon': 0, 'gamma': 0.1, 'kernel...</td>\n",
              "    </tr>\n",
              "    <tr>\n",
              "      <th>94</th>\n",
              "      <td>3</td>\n",
              "      <td>-0.929901</td>\n",
              "      <td>{'C': 100, 'epsilon': 0, 'gamma': 0.05, 'kerne...</td>\n",
              "    </tr>\n",
              "    <tr>\n",
              "      <th>49</th>\n",
              "      <td>4</td>\n",
              "      <td>-0.929901</td>\n",
              "      <td>{'C': 10, 'epsilon': 0, 'gamma': 0.05, 'kernel...</td>\n",
              "    </tr>\n",
              "    <tr>\n",
              "      <th>91</th>\n",
              "      <td>5</td>\n",
              "      <td>-0.929903</td>\n",
              "      <td>{'C': 100, 'epsilon': 0, 'gamma': 0.01, 'kerne...</td>\n",
              "    </tr>\n",
              "    <tr>\n",
              "      <th>...</th>\n",
              "      <td>...</td>\n",
              "      <td>...</td>\n",
              "      <td>...</td>\n",
              "    </tr>\n",
              "    <tr>\n",
              "      <th>27</th>\n",
              "      <td>82</td>\n",
              "      <td>-14284.292518</td>\n",
              "      <td>{'C': 1, 'epsilon': 0.5, 'gamma': 0.01, 'kerne...</td>\n",
              "    </tr>\n",
              "    <tr>\n",
              "      <th>36</th>\n",
              "      <td>82</td>\n",
              "      <td>-14284.292518</td>\n",
              "      <td>{'C': 1, 'epsilon': 1, 'gamma': 0.01, 'kernel'...</td>\n",
              "    </tr>\n",
              "    <tr>\n",
              "      <th>37</th>\n",
              "      <td>82</td>\n",
              "      <td>-14284.292518</td>\n",
              "      <td>{'C': 1, 'epsilon': 1, 'gamma': 0.01, 'kernel'...</td>\n",
              "    </tr>\n",
              "    <tr>\n",
              "      <th>73</th>\n",
              "      <td>82</td>\n",
              "      <td>-14284.292518</td>\n",
              "      <td>{'C': 10, 'epsilon': 0.5, 'gamma': 0.01, 'kern...</td>\n",
              "    </tr>\n",
              "    <tr>\n",
              "      <th>134</th>\n",
              "      <td>82</td>\n",
              "      <td>-14284.292518</td>\n",
              "      <td>{'C': 100, 'epsilon': 1, 'gamma': 0.1, 'kernel...</td>\n",
              "    </tr>\n",
              "  </tbody>\n",
              "</table>\n",
              "<p>135 rows × 3 columns</p>\n",
              "</div>\n",
              "      <button class=\"colab-df-convert\" onclick=\"convertToInteractive('df-6c833a90-45bb-416b-86e3-94fe691d14bb')\"\n",
              "              title=\"Convert this dataframe to an interactive table.\"\n",
              "              style=\"display:none;\">\n",
              "        \n",
              "  <svg xmlns=\"http://www.w3.org/2000/svg\" height=\"24px\"viewBox=\"0 0 24 24\"\n",
              "       width=\"24px\">\n",
              "    <path d=\"M0 0h24v24H0V0z\" fill=\"none\"/>\n",
              "    <path d=\"M18.56 5.44l.94 2.06.94-2.06 2.06-.94-2.06-.94-.94-2.06-.94 2.06-2.06.94zm-11 1L8.5 8.5l.94-2.06 2.06-.94-2.06-.94L8.5 2.5l-.94 2.06-2.06.94zm10 10l.94 2.06.94-2.06 2.06-.94-2.06-.94-.94-2.06-.94 2.06-2.06.94z\"/><path d=\"M17.41 7.96l-1.37-1.37c-.4-.4-.92-.59-1.43-.59-.52 0-1.04.2-1.43.59L10.3 9.45l-7.72 7.72c-.78.78-.78 2.05 0 2.83L4 21.41c.39.39.9.59 1.41.59.51 0 1.02-.2 1.41-.59l7.78-7.78 2.81-2.81c.8-.78.8-2.07 0-2.86zM5.41 20L4 18.59l7.72-7.72 1.47 1.35L5.41 20z\"/>\n",
              "  </svg>\n",
              "      </button>\n",
              "      \n",
              "  <style>\n",
              "    .colab-df-container {\n",
              "      display:flex;\n",
              "      flex-wrap:wrap;\n",
              "      gap: 12px;\n",
              "    }\n",
              "\n",
              "    .colab-df-convert {\n",
              "      background-color: #E8F0FE;\n",
              "      border: none;\n",
              "      border-radius: 50%;\n",
              "      cursor: pointer;\n",
              "      display: none;\n",
              "      fill: #1967D2;\n",
              "      height: 32px;\n",
              "      padding: 0 0 0 0;\n",
              "      width: 32px;\n",
              "    }\n",
              "\n",
              "    .colab-df-convert:hover {\n",
              "      background-color: #E2EBFA;\n",
              "      box-shadow: 0px 1px 2px rgba(60, 64, 67, 0.3), 0px 1px 3px 1px rgba(60, 64, 67, 0.15);\n",
              "      fill: #174EA6;\n",
              "    }\n",
              "\n",
              "    [theme=dark] .colab-df-convert {\n",
              "      background-color: #3B4455;\n",
              "      fill: #D2E3FC;\n",
              "    }\n",
              "\n",
              "    [theme=dark] .colab-df-convert:hover {\n",
              "      background-color: #434B5C;\n",
              "      box-shadow: 0px 1px 3px 1px rgba(0, 0, 0, 0.15);\n",
              "      filter: drop-shadow(0px 1px 2px rgba(0, 0, 0, 0.3));\n",
              "      fill: #FFFFFF;\n",
              "    }\n",
              "  </style>\n",
              "\n",
              "      <script>\n",
              "        const buttonEl =\n",
              "          document.querySelector('#df-6c833a90-45bb-416b-86e3-94fe691d14bb button.colab-df-convert');\n",
              "        buttonEl.style.display =\n",
              "          google.colab.kernel.accessAllowed ? 'block' : 'none';\n",
              "\n",
              "        async function convertToInteractive(key) {\n",
              "          const element = document.querySelector('#df-6c833a90-45bb-416b-86e3-94fe691d14bb');\n",
              "          const dataTable =\n",
              "            await google.colab.kernel.invokeFunction('convertToInteractive',\n",
              "                                                     [key], {});\n",
              "          if (!dataTable) return;\n",
              "\n",
              "          const docLinkHtml = 'Like what you see? Visit the ' +\n",
              "            '<a target=\"_blank\" href=https://colab.research.google.com/notebooks/data_table.ipynb>data table notebook</a>'\n",
              "            + ' to learn more about interactive tables.';\n",
              "          element.innerHTML = '';\n",
              "          dataTable['output_type'] = 'display_data';\n",
              "          await google.colab.output.renderOutput(dataTable, element);\n",
              "          const docLink = document.createElement('div');\n",
              "          docLink.innerHTML = docLinkHtml;\n",
              "          element.appendChild(docLink);\n",
              "        }\n",
              "      </script>\n",
              "    </div>\n",
              "  </div>\n",
              "  "
            ]
          },
          "metadata": {},
          "execution_count": 35
        }
      ]
    },
    {
      "cell_type": "code",
      "source": [
        "svr = svm.SVR(kernel='rbf', C=1, gamma=0.05, epsilon=0)\n",
        "\n",
        "svr.fit(X_train_scale, Y_train_scale)\n",
        "y_pred = svr.predict(X_test_scale)\n",
        "\n",
        "print(f'R2 Score : {round(r2_score(Y_test_scale, y_pred)*100, 2)}')\n",
        "\n",
        "plt.plot(y_pred, label='pred')\n",
        "plt.plot(Y_test_scale, label='real')\n",
        "plt.legend()\n",
        "\n",
        "plt.show()"
      ],
      "metadata": {
        "colab": {
          "base_uri": "https://localhost:8080/",
          "height": 510
        },
        "id": "MtE55FS-u2ax",
        "outputId": "7c986843-c93d-4afa-8dd7-b2c13a76e31c"
      },
      "execution_count": null,
      "outputs": [
        {
          "output_type": "stream",
          "name": "stderr",
          "text": [
            "/usr/local/lib/python3.10/dist-packages/sklearn/utils/validation.py:1143: DataConversionWarning: A column-vector y was passed when a 1d array was expected. Please change the shape of y to (n_samples, ), for example using ravel().\n",
            "  y = column_or_1d(y, warn=True)\n"
          ]
        },
        {
          "output_type": "stream",
          "name": "stdout",
          "text": [
            "R2 Score : 3.99\n"
          ]
        },
        {
          "output_type": "display_data",
          "data": {
            "text/plain": [
              "<Figure size 640x480 with 1 Axes>"
            ],
            "image/png": "[encoded data removed]"
          },
          "metadata": {}
        }
      ]
    },
    {
      "cell_type": "code",
      "source": [],
      "metadata": {
        "id": "9mVLEu28vSpb"
      },
      "execution_count": null,
      "outputs": []
    }
  ]
}